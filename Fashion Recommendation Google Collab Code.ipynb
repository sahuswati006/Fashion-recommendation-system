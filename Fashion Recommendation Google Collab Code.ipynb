{
  "cells": [
    {
      "cell_type": "code",
      "execution_count": null,
      "metadata": {
        "id": "joBY5pL_4CEh",
        "colab": {
          "base_uri": "https://localhost:8080/",
          "height": 1000
        },
        "outputId": "0fb98749-20e9-468c-a4ad-434f720bc953"
      },
      "outputs": [
        {
          "output_type": "stream",
          "name": "stdout",
          "text": [
            "Looking in indexes: https://pypi.org/simple, https://us-python.pkg.dev/colab-wheels/public/simple/\n",
            "Collecting tensorflow-gpu==1.15.5\n",
            "  Downloading tensorflow_gpu-1.15.5-cp37-cp37m-manylinux2010_x86_64.whl (411.0 MB)\n",
            "\u001b[K     |████████████████████████████████| 411.0 MB 27 kB/s \n",
            "\u001b[?25hRequirement already satisfied: protobuf>=3.6.1 in /usr/local/lib/python3.7/dist-packages (from tensorflow-gpu==1.15.5) (3.19.6)\n",
            "Requirement already satisfied: google-pasta>=0.1.6 in /usr/local/lib/python3.7/dist-packages (from tensorflow-gpu==1.15.5) (0.2.0)\n",
            "Collecting tensorboard<1.16.0,>=1.15.0\n",
            "  Downloading tensorboard-1.15.0-py3-none-any.whl (3.8 MB)\n",
            "\u001b[K     |████████████████████████████████| 3.8 MB 48.0 MB/s \n",
            "\u001b[?25hRequirement already satisfied: termcolor>=1.1.0 in /usr/local/lib/python3.7/dist-packages (from tensorflow-gpu==1.15.5) (2.1.0)\n",
            "Requirement already satisfied: six>=1.10.0 in /usr/local/lib/python3.7/dist-packages (from tensorflow-gpu==1.15.5) (1.15.0)\n",
            "Requirement already satisfied: opt-einsum>=2.3.2 in /usr/local/lib/python3.7/dist-packages (from tensorflow-gpu==1.15.5) (3.3.0)\n",
            "Collecting tensorflow-estimator==1.15.1\n",
            "  Downloading tensorflow_estimator-1.15.1-py2.py3-none-any.whl (503 kB)\n",
            "\u001b[K     |████████████████████████████████| 503 kB 56.4 MB/s \n",
            "\u001b[?25hCollecting keras-applications>=1.0.8\n",
            "  Downloading Keras_Applications-1.0.8-py3-none-any.whl (50 kB)\n",
            "\u001b[K     |████████████████████████████████| 50 kB 7.5 MB/s \n",
            "\u001b[?25hCollecting numpy<1.19.0,>=1.16.0\n",
            "  Downloading numpy-1.18.5-cp37-cp37m-manylinux1_x86_64.whl (20.1 MB)\n",
            "\u001b[K     |████████████████████████████████| 20.1 MB 1.2 MB/s \n",
            "\u001b[?25hRequirement already satisfied: grpcio>=1.8.6 in /usr/local/lib/python3.7/dist-packages (from tensorflow-gpu==1.15.5) (1.50.0)\n",
            "Requirement already satisfied: keras-preprocessing>=1.0.5 in /usr/local/lib/python3.7/dist-packages (from tensorflow-gpu==1.15.5) (1.1.2)\n",
            "Requirement already satisfied: wheel>=0.26 in /usr/local/lib/python3.7/dist-packages (from tensorflow-gpu==1.15.5) (0.38.4)\n",
            "Collecting h5py<=2.10.0\n",
            "  Downloading h5py-2.10.0-cp37-cp37m-manylinux1_x86_64.whl (2.9 MB)\n",
            "\u001b[K     |████████████████████████████████| 2.9 MB 60.8 MB/s \n",
            "\u001b[?25hCollecting gast==0.2.2\n",
            "  Downloading gast-0.2.2.tar.gz (10 kB)\n",
            "Requirement already satisfied: absl-py>=0.7.0 in /usr/local/lib/python3.7/dist-packages (from tensorflow-gpu==1.15.5) (1.3.0)\n",
            "Requirement already satisfied: astor>=0.6.0 in /usr/local/lib/python3.7/dist-packages (from tensorflow-gpu==1.15.5) (0.8.1)\n",
            "Requirement already satisfied: wrapt>=1.11.1 in /usr/local/lib/python3.7/dist-packages (from tensorflow-gpu==1.15.5) (1.14.1)\n",
            "Requirement already satisfied: setuptools>=41.0.0 in /usr/local/lib/python3.7/dist-packages (from tensorboard<1.16.0,>=1.15.0->tensorflow-gpu==1.15.5) (57.4.0)\n",
            "Requirement already satisfied: werkzeug>=0.11.15 in /usr/local/lib/python3.7/dist-packages (from tensorboard<1.16.0,>=1.15.0->tensorflow-gpu==1.15.5) (1.0.1)\n",
            "Requirement already satisfied: markdown>=2.6.8 in /usr/local/lib/python3.7/dist-packages (from tensorboard<1.16.0,>=1.15.0->tensorflow-gpu==1.15.5) (3.4.1)\n",
            "Requirement already satisfied: importlib-metadata>=4.4 in /usr/local/lib/python3.7/dist-packages (from markdown>=2.6.8->tensorboard<1.16.0,>=1.15.0->tensorflow-gpu==1.15.5) (4.13.0)\n",
            "Requirement already satisfied: zipp>=0.5 in /usr/local/lib/python3.7/dist-packages (from importlib-metadata>=4.4->markdown>=2.6.8->tensorboard<1.16.0,>=1.15.0->tensorflow-gpu==1.15.5) (3.10.0)\n",
            "Requirement already satisfied: typing-extensions>=3.6.4 in /usr/local/lib/python3.7/dist-packages (from importlib-metadata>=4.4->markdown>=2.6.8->tensorboard<1.16.0,>=1.15.0->tensorflow-gpu==1.15.5) (4.1.1)\n",
            "Building wheels for collected packages: gast\n",
            "  Building wheel for gast (setup.py) ... \u001b[?25l\u001b[?25hdone\n",
            "  Created wheel for gast: filename=gast-0.2.2-py3-none-any.whl size=7554 sha256=151b28436e3a7e713fa90618323bc0b0f2bff11e86454a0eed2d74943fd1b0b1\n",
            "  Stored in directory: /root/.cache/pip/wheels/21/7f/02/420f32a803f7d0967b48dd823da3f558c5166991bfd204eef3\n",
            "Successfully built gast\n",
            "Installing collected packages: numpy, h5py, tensorflow-estimator, tensorboard, keras-applications, gast, tensorflow-gpu\n",
            "  Attempting uninstall: numpy\n",
            "    Found existing installation: numpy 1.21.6\n",
            "    Uninstalling numpy-1.21.6:\n",
            "      Successfully uninstalled numpy-1.21.6\n",
            "  Attempting uninstall: h5py\n",
            "    Found existing installation: h5py 3.1.0\n",
            "    Uninstalling h5py-3.1.0:\n",
            "      Successfully uninstalled h5py-3.1.0\n",
            "  Attempting uninstall: tensorflow-estimator\n",
            "    Found existing installation: tensorflow-estimator 2.9.0\n",
            "    Uninstalling tensorflow-estimator-2.9.0:\n",
            "      Successfully uninstalled tensorflow-estimator-2.9.0\n",
            "  Attempting uninstall: tensorboard\n",
            "    Found existing installation: tensorboard 2.9.1\n",
            "    Uninstalling tensorboard-2.9.1:\n",
            "      Successfully uninstalled tensorboard-2.9.1\n",
            "  Attempting uninstall: gast\n",
            "    Found existing installation: gast 0.4.0\n",
            "    Uninstalling gast-0.4.0:\n",
            "      Successfully uninstalled gast-0.4.0\n",
            "\u001b[31mERROR: pip's dependency resolver does not currently take into account all the packages that are installed. This behaviour is the source of the following dependency conflicts.\n",
            "xarray-einstats 0.2.2 requires numpy>=1.21, but you have numpy 1.18.5 which is incompatible.\n",
            "tensorflow 2.9.2 requires numpy>=1.20, but you have numpy 1.18.5 which is incompatible.\n",
            "tensorflow 2.9.2 requires tensorboard<2.10,>=2.9, but you have tensorboard 1.15.0 which is incompatible.\n",
            "tensorflow 2.9.2 requires tensorflow-estimator<2.10.0,>=2.9.0rc0, but you have tensorflow-estimator 1.15.1 which is incompatible.\n",
            "tensorflow-probability 0.17.0 requires gast>=0.3.2, but you have gast 0.2.2 which is incompatible.\n",
            "tables 3.7.0 requires numpy>=1.19.0, but you have numpy 1.18.5 which is incompatible.\n",
            "plotnine 0.8.0 requires numpy>=1.19.0, but you have numpy 1.18.5 which is incompatible.\n",
            "jaxlib 0.3.25+cuda11.cudnn805 requires numpy>=1.20, but you have numpy 1.18.5 which is incompatible.\n",
            "jax 0.3.25 requires numpy>=1.20, but you have numpy 1.18.5 which is incompatible.\n",
            "cupy-cuda11x 11.0.0 requires numpy<1.26,>=1.20, but you have numpy 1.18.5 which is incompatible.\n",
            "cmdstanpy 1.0.8 requires numpy>=1.21, but you have numpy 1.18.5 which is incompatible.\u001b[0m\n",
            "Successfully installed gast-0.2.2 h5py-2.10.0 keras-applications-1.0.8 numpy-1.18.5 tensorboard-1.15.0 tensorflow-estimator-1.15.1 tensorflow-gpu-1.15.5\n"
          ]
        },
        {
          "output_type": "display_data",
          "data": {
            "application/vnd.colab-display-data+json": {
              "pip_warning": {
                "packages": [
                  "numpy"
                ]
              }
            }
          },
          "metadata": {}
        },
        {
          "output_type": "stream",
          "name": "stdout",
          "text": [
            "Found existing installation: scipy 1.7.3\n",
            "Uninstalling scipy-1.7.3:\n",
            "  Would remove:\n",
            "    /usr/local/lib/python3.7/dist-packages/scipy-1.7.3.dist-info/*\n",
            "    /usr/local/lib/python3.7/dist-packages/scipy.libs/libgfortran-2e0d59d6.so.5.0.0\n",
            "    /usr/local/lib/python3.7/dist-packages/scipy.libs/libopenblasp-r0-2d23e62b.3.17.so\n",
            "    /usr/local/lib/python3.7/dist-packages/scipy.libs/libquadmath-2d0c479f.so.0.0.0\n",
            "    /usr/local/lib/python3.7/dist-packages/scipy/*\n",
            "Proceed (y/n)? y\n",
            "  Successfully uninstalled scipy-1.7.3\n",
            "Looking in indexes: https://pypi.org/simple, https://us-python.pkg.dev/colab-wheels/public/simple/\n",
            "Collecting scipy==1.2.0\n",
            "  Downloading scipy-1.2.0-cp37-cp37m-manylinux1_x86_64.whl (26.6 MB)\n",
            "\u001b[K     |████████████████████████████████| 26.6 MB 423 kB/s \n",
            "\u001b[?25hRequirement already satisfied: numpy>=1.8.2 in /usr/local/lib/python3.7/dist-packages (from scipy==1.2.0) (1.18.5)\n",
            "Installing collected packages: scipy\n",
            "\u001b[31mERROR: pip's dependency resolver does not currently take into account all the packages that are installed. This behaviour is the source of the following dependency conflicts.\n",
            "xarray-einstats 0.2.2 requires numpy>=1.21, but you have numpy 1.18.5 which is incompatible.\n",
            "pymc 4.1.4 requires scipy>=1.4.1, but you have scipy 1.2.0 which is incompatible.\n",
            "plotnine 0.8.0 requires numpy>=1.19.0, but you have numpy 1.18.5 which is incompatible.\n",
            "plotnine 0.8.0 requires scipy>=1.5.0, but you have scipy 1.2.0 which is incompatible.\n",
            "jaxlib 0.3.25+cuda11.cudnn805 requires numpy>=1.20, but you have numpy 1.18.5 which is incompatible.\n",
            "jaxlib 0.3.25+cuda11.cudnn805 requires scipy>=1.5, but you have scipy 1.2.0 which is incompatible.\n",
            "jax 0.3.25 requires numpy>=1.20, but you have numpy 1.18.5 which is incompatible.\n",
            "jax 0.3.25 requires scipy>=1.5, but you have scipy 1.2.0 which is incompatible.\n",
            "aeppl 0.0.33 requires scipy>=1.4.0, but you have scipy 1.2.0 which is incompatible.\u001b[0m\n",
            "Successfully installed scipy-1.2.0\n"
          ]
        }
      ],
      "source": [
        "# Installing required versions of the tensorflows \n",
        "\n",
        "!pip install tensorflow-gpu==1.15.5\n",
        "!pip uninstall scipy\n",
        "!pip install scipy==1.2.0"
      ]
    },
    {
      "cell_type": "code",
      "source": [
        "# Need Google drive access to download the code files and pretrained models\n",
        "from google.colab import drive\n",
        "drive.mount('/content/gdrive')"
      ],
      "metadata": {
        "id": "zAXsT8eoyxTb",
        "colab": {
          "base_uri": "https://localhost:8080/"
        },
        "outputId": "f1e69edb-db32-46bd-ef34-51b86eadd328"
      },
      "execution_count": null,
      "outputs": [
        {
          "output_type": "stream",
          "name": "stdout",
          "text": [
            "Mounted at /content/gdrive\n"
          ]
        }
      ]
    },
    {
      "cell_type": "code",
      "source": [
        "#Listing files\n",
        "%ls '/content/gdrive/MyDrive'"
      ],
      "metadata": {
        "id": "k6QaRMlnzheG",
        "colab": {
          "base_uri": "https://localhost:8080/"
        },
        "outputId": "5ee40829-42d3-4498-d61c-23f7ae57bbc4"
      },
      "execution_count": null,
      "outputs": [
        {
          "output_type": "stream",
          "name": "stdout",
          "text": [
            " AmazonFashion6ImgPartitioned.npy  'Fashion_Image_Recommendations (1).zip'\n",
            "\u001b[0m\u001b[01;34m'Colab Notebooks'\u001b[0m/                 'Getting started.pdf'\n"
          ]
        }
      ]
    },
    {
      "cell_type": "code",
      "source": [
        "\n",
        "# Unzipping Code Files\n",
        "!unzip '/content/gdrive/MyDrive/Fashion_Image_Recommendations (1).zip'"
      ],
      "metadata": {
        "colab": {
          "base_uri": "https://localhost:8080/"
        },
        "id": "YW9amGWjzmAy",
        "outputId": "8e20a56f-3c3a-4b06-8dcb-adda5574c8e1"
      },
      "execution_count": null,
      "outputs": [
        {
          "output_type": "stream",
          "name": "stdout",
          "text": [
            "Archive:  /content/gdrive/MyDrive/Fashion_Image_Recommendations (1).zip\n",
            "  inflating: checkpoint/AmazonFashion6ImgPartitioned.npy_16_64_64/checkpoint  \n",
            "  inflating: checkpoint/AmazonFashion6ImgPartitioned.npy_16_64_64/DCGAN.model-311502.data-00000-of-00001  \n",
            "  inflating: checkpoint/AmazonFashion6ImgPartitioned.npy_16_64_64/DCGAN.model-311502.index  \n",
            "  inflating: checkpoint/AmazonFashion6ImgPartitioned.npy_16_64_64/DCGAN.model-311502.meta  \n",
            "  inflating: gan_execution.py        \n",
            "  inflating: gan_train.py            \n",
            "  inflating: ops.py                  \n",
            "  inflating: Untitled-1.coffee       \n",
            "  inflating: utils.py                \n",
            "  inflating: visual_recommender.py   \n",
            "  inflating: Visual_Recommender_Evaluation_100.ckpt.data-00000-of-00001  \n",
            "  inflating: Visual_Recommender_Evaluation_100.ckpt.index  \n",
            "  inflating: Visual_Recommender_Evaluation_100.ckpt.meta  \n"
          ]
        }
      ]
    },
    {
      "cell_type": "code",
      "execution_count": null,
      "metadata": {
        "id": "Vc6Mp-SbUHTP"
      },
      "outputs": [],
      "source": [
        "# Copying the dataset file from the google drive\n",
        "\n",
        "!cp '/content/gdrive/My Drive/AmazonFashion6ImgPartitioned.npy' AmazonFashion6ImgPartitioned.npy"
      ]
    },
    {
      "cell_type": "code",
      "source": [
        "#Unmounting the files as we have copied all the rquired files\n",
        "\n",
        "drive.flush_and_unmount()"
      ],
      "metadata": {
        "id": "UCKskb15z175"
      },
      "execution_count": null,
      "outputs": []
    },
    {
      "cell_type": "code",
      "execution_count": null,
      "metadata": {
        "id": "Gm1wJEBkpjHE",
        "colab": {
          "base_uri": "https://localhost:8080/"
        },
        "outputId": "756709a3-2486-47dd-b021-e22a686aea82"
      },
      "outputs": [
        {
          "output_type": "stream",
          "name": "stdout",
          "text": [
            "<module 'tensorflow._api.v1.version' from '/usr/local/lib/python3.7/dist-packages/tensorflow_core/_api/v1/version/__init__.py'>\n"
          ]
        }
      ],
      "source": [
        "#Importing Necessary Tensorflow module to execute the model and image generations.\n",
        "\n",
        "import tensorflow as tf\n",
        "from tensorflow.nn import l2_loss as loss_function\n",
        "from tensorflow.keras.initializers import glorot_normal\n",
        "from tensorflow.train import AdamOptimizer as optim_fn\n",
        "from tensorflow.train import Saver\n",
        "\n",
        "print(tf.version)"
      ]
    },
    {
      "cell_type": "code",
      "execution_count": null,
      "metadata": {
        "id": "VaNLjQFsp3XN"
      },
      "outputs": [],
      "source": [
        "# Setting the latent dimensionality (dimensions of the features extracted by the CNN)\n",
        "dims = 100"
      ]
    },
    {
      "cell_type": "code",
      "execution_count": null,
      "metadata": {
        "id": "QzETP30i3E47"
      },
      "outputs": [],
      "source": [
        "# Pre trained Model path for the Visual Recommender Algorithm, we will have the weights, bias, and user latent vectors which were trained in visual_recommender.py\n",
        "\n",
        "Visual_Recommender_ckpt_path = 'Visual_Recommender_Evaluation_100.ckpt'"
      ]
    },
    {
      "cell_type": "code",
      "execution_count": null,
      "metadata": {
        "id": "X0GpXNzH3G6y"
      },
      "outputs": [],
      "source": [
        "# Loading the dataset, We can see how the datset is designed in the untitled file.\n",
        "\n",
        "import numpy as np\n",
        "\n",
        "[train_data, val_data, test_data, Item, user_num, item_num] = np.load('AmazonFashion6ImgPartitioned.npy', allow_pickle=True, encoding='bytes')"
      ]
    },
    {
      "cell_type": "code",
      "execution_count": null,
      "metadata": {
        "colab": {
          "base_uri": "https://localhost:8080/"
        },
        "id": "PNg-gc7QNDxO",
        "outputId": "5a4b2d42-f01f-4fff-d1a4-449ff624a72e"
      },
      "outputs": [
        {
          "output_type": "execute_result",
          "data": {
            "text/plain": [
              "[{'reviewerID': 'A2O01MO9OAMNG7',\n",
              "  'asin': 'B009PNSN3Y',\n",
              "  'reviewerName': 'Sakura95996',\n",
              "  'helpful': [0, 0],\n",
              "  'reviewText': \"it is as expected, the print is just like the picture, and material is quiet good. I bought this for my little brother(about 5'4, broad shoulders, chest size about 35&#34;), just beware that even thought it's M it's quiet big for size M (in my opinion). However, the measurements were exactly as describe on the website, it was wrong on my part to buy a bigger size for my brother than his actual measurement. The measurement here indicates chest size as 42&#34;, and it was definitely too big for my little brother. &#62;&#60; Hopefully he'll grow into it. XD It's a good shirt for the price though. It came after 2 wks, as expected since it's from overseas.\",\n",
              "  'overall': 5.0,\n",
              "  'summary': 'as expected',\n",
              "  'unixReviewTime': 1357862400,\n",
              "  'reviewTime': '01 11, 2013',\n",
              "  b'productid': 164874}]"
            ]
          },
          "metadata": {},
          "execution_count": 10
        }
      ],
      "source": [
        "# test data structure\n",
        "test_data[44636]"
      ]
    },
    {
      "cell_type": "code",
      "source": [
        "# The data astructure of the Item, we have category 'c' image of the Item in 'imgs'\n",
        "Item[164874]"
      ],
      "metadata": {
        "id": "vSXd5h9a6f2m",
        "colab": {
          "base_uri": "https://localhost:8080/"
        },
        "outputId": "f5667ef3-2a9a-4c02-a1ee-5f9e0580a3dd"
      },
      "execution_count": null,
      "outputs": [
        {
          "output_type": "execute_result",
          "data": {
            "text/plain": [
              "{b'asin': b'B009PNSN3Y',\n",
              " b'c': array([ True, False, False, False, False, False]),\n",
              " b'title': b'Men Spring Tree Pattern Design Round Neck Shirt',\n",
              " b'price': 10.95,\n",
              " b'imUrl': b'http://ecx.images-amazon.com/images/I/41xs%2Bu46xgL._SX342_.jpg',\n",
              " b'related': {b'also_viewed': [b'B007WA1UEG',\n",
              "   b'B00A8YYHRK',\n",
              "   b'B00E6RDJQ0',\n",
              "   b'B00A8ZF7WI']},\n",
              " b'imgs': b'\\xff\\xd8\\xff\\xe0\\x00\\x10JFIF\\x00\\x01\\x01\\x00\\x00\\x01\\x00\\x01\\x00\\x00\\xff\\xdb\\x00C\\x00\\x05\\x03\\x04\\x04\\x04\\x03\\x05\\x04\\x04\\x04\\x05\\x05\\x05\\x06\\x07\\x0c\\x08\\x07\\x07\\x07\\x07\\x0f\\x0b\\x0b\\t\\x0c\\x11\\x0f\\x12\\x12\\x11\\x0f\\x11\\x11\\x13\\x16\\x1c\\x17\\x13\\x14\\x1a\\x15\\x11\\x11\\x18!\\x18\\x1a\\x1d\\x1d\\x1f\\x1f\\x1f\\x13\\x17\"$\"\\x1e$\\x1c\\x1e\\x1f\\x1e\\xff\\xdb\\x00C\\x01\\x05\\x05\\x05\\x07\\x06\\x07\\x0e\\x08\\x08\\x0e\\x1e\\x14\\x11\\x14\\x1e\\x1e\\x1e\\x1e\\x1e\\x1e\\x1e\\x1e\\x1e\\x1e\\x1e\\x1e\\x1e\\x1e\\x1e\\x1e\\x1e\\x1e\\x1e\\x1e\\x1e\\x1e\\x1e\\x1e\\x1e\\x1e\\x1e\\x1e\\x1e\\x1e\\x1e\\x1e\\x1e\\x1e\\x1e\\x1e\\x1e\\x1e\\x1e\\x1e\\x1e\\x1e\\x1e\\x1e\\x1e\\x1e\\x1e\\x1e\\x1e\\x1e\\xff\\xc0\\x00\\x11\\x08\\x01V\\x01V\\x03\\x01\"\\x00\\x02\\x11\\x01\\x03\\x11\\x01\\xff\\xc4\\x00\\x1f\\x00\\x00\\x01\\x05\\x01\\x01\\x01\\x01\\x01\\x01\\x00\\x00\\x00\\x00\\x00\\x00\\x00\\x00\\x01\\x02\\x03\\x04\\x05\\x06\\x07\\x08\\t\\n\\x0b\\xff\\xc4\\x00\\xb5\\x10\\x00\\x02\\x01\\x03\\x03\\x02\\x04\\x03\\x05\\x05\\x04\\x04\\x00\\x00\\x01}\\x01\\x02\\x03\\x00\\x04\\x11\\x05\\x12!1A\\x06\\x13Qa\\x07\"q\\x142\\x81\\x91\\xa1\\x08#B\\xb1\\xc1\\x15R\\xd1\\xf0$3br\\x82\\t\\n\\x16\\x17\\x18\\x19\\x1a%&\\'()*456789:CDEFGHIJSTUVWXYZcdefghijstuvwxyz\\x83\\x84\\x85\\x86\\x87\\x88\\x89\\x8a\\x92\\x93\\x94\\x95\\x96\\x97\\x98\\x99\\x9a\\xa2\\xa3\\xa4\\xa5\\xa6\\xa7\\xa8\\xa9\\xaa\\xb2\\xb3\\xb4\\xb5\\xb6\\xb7\\xb8\\xb9\\xba\\xc2\\xc3\\xc4\\xc5\\xc6\\xc7\\xc8\\xc9\\xca\\xd2\\xd3\\xd4\\xd5\\xd6\\xd7\\xd8\\xd9\\xda\\xe1\\xe2\\xe3\\xe4\\xe5\\xe6\\xe7\\xe8\\xe9\\xea\\xf1\\xf2\\xf3\\xf4\\xf5\\xf6\\xf7\\xf8\\xf9\\xfa\\xff\\xc4\\x00\\x1f\\x01\\x00\\x03\\x01\\x01\\x01\\x01\\x01\\x01\\x01\\x01\\x01\\x00\\x00\\x00\\x00\\x00\\x00\\x01\\x02\\x03\\x04\\x05\\x06\\x07\\x08\\t\\n\\x0b\\xff\\xc4\\x00\\xb5\\x11\\x00\\x02\\x01\\x02\\x04\\x04\\x03\\x04\\x07\\x05\\x04\\x04\\x00\\x01\\x02w\\x00\\x01\\x02\\x03\\x11\\x04\\x05!1\\x06\\x12AQ\\x07aq\\x13\"2\\x81\\x08\\x14B\\x91\\xa1\\xb1\\xc1\\t#3R\\xf0\\x15br\\xd1\\n\\x16$4\\xe1%\\xf1\\x17\\x18\\x19\\x1a&\\'()*56789:CDEFGHIJSTUVWXYZcdefghijstuvwxyz\\x82\\x83\\x84\\x85\\x86\\x87\\x88\\x89\\x8a\\x92\\x93\\x94\\x95\\x96\\x97\\x98\\x99\\x9a\\xa2\\xa3\\xa4\\xa5\\xa6\\xa7\\xa8\\xa9\\xaa\\xb2\\xb3\\xb4\\xb5\\xb6\\xb7\\xb8\\xb9\\xba\\xc2\\xc3\\xc4\\xc5\\xc6\\xc7\\xc8\\xc9\\xca\\xd2\\xd3\\xd4\\xd5\\xd6\\xd7\\xd8\\xd9\\xda\\xe2\\xe3\\xe4\\xe5\\xe6\\xe7\\xe8\\xe9\\xea\\xf2\\xf3\\xf4\\xf5\\xf6\\xf7\\xf8\\xf9\\xfa\\xff\\xda\\x00\\x0c\\x03\\x01\\x00\\x02\\x11\\x03\\x11\\x00?\\x00\\xfb.\\x8a(\\xa0\\x02\\x8a(\\xa0\\x02\\x8a(\\xa0\\x02\\x8a(\\xa0\\x02\\x8a(\\xa0\\x02\\x8a(\\xa0\\x02\\x8a(\\xa0\\x02\\x8a(\\xa0\\x02\\x8a(\\xa0\\x02\\x8a(\\xa0\\x02\\x8a(\\xa0\\x02\\x8a(\\xa0\\x02\\x8a(\\xa0\\x02\\x8a(\\xa0\\x02\\x8a(\\xa0\\x02\\x8a(\\xa0\\x02\\x8a(\\xa0\\x02\\x8a(\\xa0\\x02\\x8a(\\xa0\\x02\\x8a(\\xa0\\x02\\x8a(\\xa0\\x02\\x8a(\\xa0\\x02\\x8a(\\xa0\\x02\\x8a(\\xa0\\x02\\x8a(\\xa0\\x02\\x8a(\\xa0\\x02\\x8a(\\xa0\\x02\\x8a(\\xa0\\x02\\x8a(\\xa0\\x02\\x8a(\\xa0\\x02\\x8a(\\xa0\\x02\\x8a(\\xa0\\x02\\x8a(\\xa0\\x02\\x8a(\\xa0\\x02\\x8a(\\xa0\\x02\\x8a(\\xa0\\x02\\x8a(\\xa0\\x02\\x8a(\\xa0\\x02\\x8a(\\xa0\\x02\\x8a(\\xa0\\x02\\x8a(\\xa0\\x02\\x8a(\\xa0\\x02\\x8a(\\xa0\\x02\\x8a(\\xa0\\x02\\x8a(\\xa0\\x02\\x8a(\\xa0\\x02\\x8a(\\xa0\\x02\\x8a(\\xa0\\x02\\x8a(\\xa0\\x02\\x8a(\\xa0\\x02\\x8a(\\xa0\\x02\\x8a+\\x1fX\\xf1&\\x95\\xa6\\xcd\\xf6i\\'\\x13]\\x90H\\xb7\\x87\\xe6~;\\x9e\\xca=\\xce(\\x03b\\x8a\\xf0\\xaf\\x8b?\\x15|I`4\\xbb-\\x02+{\\x19\\xae\\xe4}\\xf2\\x0cN@\\\\|\\x9c\\x80\\x01;\\x81\\xcf=+O\\xc3\\x9e=\\xf1\\xad\\x9d\\xb2\\x7fn\\xd8\\xda_1\\xea\\x10yn\\x07\\xb9\\x1cg\\xf0\\xa0W=\\x8a\\x8a\\xe24\\xef\\x89Z,\\xc0\\xae\\xa1\\x05\\xcd\\x84\\x83\\x82\\x197\\x8f\\xcdy\\xfd*_\\x10|Q\\xf0\\x07\\x87\\xec\\xe0\\xbb\\xd6\\xbcMgc\\r\\xc3\\x94\\x88\\xca\\x1c\\x16`2F1\\x9e\\x94\\x0c\\xec\\xa8\\xae\\x16\\x0f\\x8b\\xbf\\x0fg$C\\xaf;\\xe0u\\x167\\x18\\xfc\\xfc\\xbcUk\\x9f\\x8c\\xde\\x02\\x81\\x0c\\x8f\\xa8]\\xf9(\\t\\x92Sc*\\xa2\\x0fr\\xca1@\\\\\\xf4:+\\xca<3\\xf1\\xff\\x00\\xe1\\xff\\x00\\x89\\xe7\\x10x~MR\\xf5\\x9dX\\xc6\\xedb\\xf1F\\xe5q\\xb9C8\\x00\\x90\\x19I\\x03<\\x11U|e\\xf1\\x03\\xc62\\xc0\\x0f\\x86\\xf4\\xeb[E\\xfe#9\\xdd/\\xe0\\x0f\\x1f\\xa5\\x02\\xb9\\xec4W\\x94\\xfc7\\xf8\\x83\\xab^\\xe8\\xad\\xfd\\xb3\\x1a\\xdc\\xdd\\xdb\\xcc\\xd1M\\x94\\xf2\\x9f\\xd4v\\xc1\\xe0\\xf6\\xae\\xff\\x00J\\xf1\\x1e\\x95\\xa8\\x10\\x91\\xdcy3w\\x8a`Q\\x87\\xe7\\xd7\\xf0\\xa0f\\xbd\\x14Q@\\x05\\x14Q@\\x05\\x14Q@\\x05\\x14Q@\\x05\\x14Q@\\x05\\x14Q@\\x05\\x14Q@\\x05\\x14Q@\\x05\\x14Q@\\x05\\x14Q@\\x05\\x14Q@\\x05\\x14Q@\\x05\\x14Q@\\x05\\x14Q@\\x05\\x14W5\\xe3\\x0f\\x17\\xd9h\\x10\\xb2G\\x0b\\xdf^t\\x10\\xa1\\xc2\\xa9\\xff\\x00m\\xfa/\\xd3\\x93\\xed@\\x1d-r\\xde&\\xf1\\xe6\\x85\\xa2M\\xf6S+^\\xde\\x9f\\xbbml71\\xaf?\\xd55\\xfds[Pu\\x1dH\\xda\\xc4y\\xfb-\\x9eUH\\xf7\\'\\xe6o\\xd2\\xa9Z\\xc4\\x90\\xc6\\xe2\\xd2\\xdd\"\\x04\\xf2\\xe7\\x96\\'\\xd4\\xe7\\xaf\\xeb@\\xaekk\\x9e(\\xf1f\\xae\\xac\\x8b<:%\\xab\\x82\\x0cQ\\xe1\\xe6a\\xee\\xdd\\x8f\\xd2\\xb9\\xc7\\xd4\\x1e\\xd6\\xdaK\\x1b8\\xbe\\xcc\\x0f\\xfa\\xd9\\xb1\\xfb\\xc9O\\xa9n\\xa4\\xfb\\xfb\\xd6\\xb2DU\\xf7\\xb6\\xe3!\\xe8O54\\xd6\\xf1\\xcf\\x82\\xca\\xa3\\xdf\\x14\\x08\\xe2uK\\x01xm&U\\xde\\xd6W\\x0b>\\x0fV\\x1d\\x0f_\\xcf\\xf0\\xae\\xc29\\x04\\xd0+\\xedl\\xfag\\xa1\\xaa\\ro\\xf6{\\x9f\\x98\\x03\\x1bg\\x90?0\\x7f\\xcf\\xadOh\\xe6\\x1b\\x86\\xb7fm\\xac7)>\\x87\\xb5&\\x16,<{\\xc0\\xdc\\x07\\xb8e\\xe0\\xd7\\t\\xf1{\\xe1}\\xaf\\xc4K]*/\\xed!\\xa5\\x9d6I$\\x03\\xc9\\xde%\\x0e\\x14\\x11\\xd4c\\x1bk\\xbe8\\\\\\x93\\xdb\\xde\\x95\\\\\\x9c\\x80rq\\xd8\\xf3\\xff\\x00\\xd7\\xa1\\x01\\xe47_\\x08<Qu\\x12\\xc3w\\xf1.\\xfd\\xa1\\xc6\\x02\\x8bt\\xe0~\\x18\\xa6\\xff\\x00\\xc2\\x87\\x85\\xad^\\x19|g\\xac;8\\xda\\xc38F\\x1fL\\xd7\\xb0\\x83\\xed\\x91\\x9c\\x9aid#?63\\xc7\\x14]\\x81\\xc3|6\\xf8[\\xa1x\\x18\\xc5=\\x9c\\xf7wW\\xca\\x1cy\\xd2JDc~7b<\\xed\\x04\\x80\\x06q\\x9e9\\xae\\xabZ\\xf3ZH\\xa2Bpz\\x9fZ\\xbf\\xc3\\x92\\xc1\\xb1\\xed\\xebT\\xae\\xd3|\\xc8@\\xdb\\xc8\\x00w\\xa0\\x0c{\\xad\\xf1O\\x88\\xbeF\\'s\\x1c\\xff\\x00\\x9e\\xd5j\\xd3X\\x99s\\x1d\\xd8Y\\xe1\\xceG\\x9a\\x01#\\xe9\\xe9\\xf8Q5\\xb4\\x97w^Lm\\xb4\\xb9\\xf9\\x8feQ\\xd4\\xfdy\\x03\\xf3\\xab3X[\\x15X\\x82\\x17\\xdb\\xd1\\xb1H\\x0e\\x8bA\\xf1e\\xc5\\xbck\\x1d\\x9e\\xa4\\xfbA\\xe2\\x0b\\xa1\\xe6\\x01\\xec\\x18\\xe1\\x87\\xe6k\\xb5\\xd3\\xfc]o!\\x0b}\\x03[\\x8c\\x0c\\xcc\\x8d\\xbe<\\xff\\x00\\xe8C\\xf2\\xc7\\xbdx\\xcd\\xc6\\x992\\x93\\xe4\\x9c\\x9e\\xc3\\xd2\\xa3\\xb3\\xd5\\xaf\\xedf1\\x89YJ\\x1c\\x05l\\x9c\\xfe\\x06\\x98&}\\x1b\\x0c\\x91\\xcd\\x12\\xcb\\x14\\x8b$l2\\xac\\xa7 \\x8fcN\\xaf\\x16\\xd1|]5\\x83\\x96\\x8dL.pd\\xf2\\xceQ\\xbe\\xa3\\xfa\\xd7\\xa3xC\\xc5\\x96^ \\x8d\\x90b)\\xd4\\xe3n~W\\xff\\x00t\\xff\\x00Jc\\xb9\\xd1\\xd1E\\x14\\x0c(\\xa2\\x8a\\x00(\\xa2\\x8a\\x00(\\xa2\\x8a\\x00(\\xa2\\x8a\\x00(\\xa2\\x8a\\x00(\\xa2\\x8a\\x00(\\xa2\\x8a\\x00(\\xa2\\x8a\\x00(\\xa2\\x8a\\x00(\\xa2\\x8a\\x00(\\xa2\\x8a\\x00\\xc0\\xf1\\xde\\xa96\\x9b\\xa1\\xb8\\xb4\\x90%\\xdc\\xe7\\xcb\\x88\\xe7\\x95\\xe3\\x96\\x1fA\\xfa\\x91^ogt\\xf2I\\x1bJ\\xc3l\\xa0\\xa4\\xbb\\xbb\\xb7PO\\xbdi|@\\xd4\\xbe\\xdd\\xad\\xcb\\xe5I\\x98\\xadG\\x95\\x1e=\\x7f\\x88\\xfe|~\\x15\\xcfA*\\xca\\xad\\x03`\\x96\\x01\\x94\\xff\\x00\\xb49\\x1f\\xa8\\xa0LY\\xed\\xd2\\xd6\\xf5\\x98\\x03\\x82\\xd9\\xe7\\xb5\\\\\\x8eT`\\x08\\xc7\\x1d\\x02\\x8cQz\\xa2h\\x96nq\\x81\\xf8Ul\\xa8\\xda\\xc8p:\\xae\\x06\\x01\\xa4\"\\xf6\\xe0S*\\x00\\x1e\\xa4\\xe2\\x91\\xdc\\x7f\\x163\\xe89\\xa8\\x16^\\x008\\xc6:v\\xa5<\\x9e\\xccz\\xf4\\xeb@\\x0f\\x96$\\x9e\\x12\\xb8\\x01\\xba\\xab\\x1e\\xc6\\xb2X\\xb3\\xc2a$\\xa4\\xf1\\xb7\\xca\\x1b\\xf8O\\xa7\\xd0\\xf65\\xa9\\xbb\\x80\\x07\\x19<\\x9ct\\xaaZ\\xb5\\xabL\\xc2\\xe2\\x05c\"p\\xdc\\xff\\x00\\xac_\\xfe\\xb5 \\x0b\\x0b\\xd10\\xf2\\xa5\\x1b$Q\\x86\\r\\xc1\\x15l\\xfc\\xb9+\\x93\\xe88\\xe7\\xf2\\xac%\\xb8\\x85\\xe4+p\\xcd\\x1b\\xc6q\\xe6*\\xf2\\x0f\\xa1\\x15z\\x07\\x90FLl\\xb3\\x0e\\x9b\\x94\\xff\\x00N\\xbf\\xa54\"\\xf9p\\x01\\xe0\\x00x\\xa6\\x8d\\xb8\\xce@\\xf4\\xc5Ws&pA\\xcfS\\xfeqK\\xfb\\xe7R\\xa8\\xa4\\x81\\xed\\x8e~\\xbd(\\x1d\\xcb\\x1b\\x88L\\x87\\xdb\\xef\\xe9PDw9\\x98\\x91\\xb1A\\x00\\x90~c\\xed\\xf4\\xa8\\x19\\x97\\x1f\\xbd\\xc4\\xae:D\\x87\\x00\\xfdOLS`sz\\xe0\\x17\\xdb\\x08;^D\\x18P\\x07\\xf0\\xaf\\xf8\\x8a\\x00\\x9e\\xcdL\\x82I\\xa3\\'k\\x92\\xa3\\xe8;\\xfey\\xab\\xb0\\xc4c\\x00\\x95\\xc9=\\xfbSZ\\xea8T,I\\x84^\\x00\\x02\\xa3\\xf3\\xa7\\x90\\x93\\xb4\\x00O?J@K\\xecGN\\x9e\\xd5^\\xea\\xc6\\xda\\xe3\\xfdb\\x02\\xd8\\xc8l\\xf3\\xf9\\xd4\\x98\\x1c\\x12N\\x7fCN\\'#\\x00c\\x07\\xafz\\x00\\xce\\x8f\\xc2\\xff\\x00j?\\xf1\\xf4\\xd1\\xc7\\x9c\\xed\\xceK{dU\\x89\\xa5\\x92\\rB\\xdbK\\x88}\\x8c$Y@\\x99]\\x8c\\x08\\xc1&\\xaf\\xdc\\xcdq\\r\\x84\\xcf\\x13~\\xfbg\\xee\\xf2>\\xe9\\xf5\\xae{I\\x8a\\xe2\\xeei$\\xba\\x9d\\x9au\\xf9\\xa6\\x90\\x9c\\x88\\xfd\\x10\\x1f\\xe7\\xeeM\\x00{G\\x81\\xb5\\x86\\xd5\\xb4\\x8c\\\\H\\x1a\\xf2\\xd9\\xbc\\xa9\\xfd\\xfd\\x1b\\xf1\\x1f\\xaek~\\xbc\\x93\\xc1\\xda\\xb1\\xd2\\xfcE\\x04\\xae\\xfbmn\\xc0\\x8e_NO\\xca\\xdf\\x81\\xfef\\xbdn\\xa8h(\\xa2\\x8a\\x06\\x14QE\\x00\\x14QE\\x00\\x14QE\\x00\\x14QE\\x00\\x14QE\\x00\\x14QE\\x00\\x14QE\\x00\\x14QE\\x00\\x14QE\\x00\\x15C\\xc4:\\x80\\xd2\\xf4k\\x9b\\xe22cO\\x94z\\xb18\\x1f\\xa9\\x15~\\xbc\\xff\\x00\\xe2\\xa6\\xaa7\\xc1\\xa4\\xc6r\\xab\\xfb\\xe9\\xcf\\xa7\\xf7G\\xf5\\xfc\\xa8\\x03\\x88\\x95\\xc1d\\x01\\x8e3\\x92X\\xd4\\x1bU\\'%\\x0ex\\xc8\\xc5>\\xd2/\\xb5^\\x00\\xc0\\x88\\xd0\\xfc\\xde\\xf4\\xb7\\xb0\\x8b[\\x90P\\x1f/4\\x10\\xcb\\xd0\\xb7\\x9d\\x04\\x91\\x0f\\x93#p\\xfex\\xa8a&2Q\\xa3m\\xe3\\x83\\x91Q,\\x8b\\xbdy\\xe3\\x8c\\x00x\"\\xae1\\xf3\\x00\\x90p\\xdd\\xf0)\\r\\x0c(\\x19\\x83\\x16\\xf7 w\\xfa\\xd4\\x83h\\x19\\x00\\xfd\\t\\xa8\\xf3&\\xe2\\x04`z\\xf3\\x92*G\\x0cT\\xee\\xf5\\xe0w4\\x00ml\\x96\\xa4i\\x15X+\\x12q\\xd8R<\\xb8U\\x03r\\xb7\\xa7\\xbd$i\\xb7,\\xc0g\\xa9\\xa0\\x08n\\xf4\\xfb[\\xf9\\x03\\xb2\\x98e\\xc6\\x04\\x91\\x9c\\x1c\\x7fQ\\xed\\x8a\\xcd\\x97I\\xb8\\x89\\x8a\\xa6\\xc9\\x87\\\\\\xc6\\xdb\\x0f\\xe2:\\x1f\\xccV\\xcbL\\xbc\\x8d\\x9c\\x9e\\x06i#;ry\\xe4\\xe3\\x19\\xa0\\x19\\x8e\\x96\\xfa\\xbaE\\x88\\x8d\\xce\\x01\\xe7\\x95\\xcf\\xe8jh\\xac\\xb5\\t\\x93s\\xefg\\xff\\x00\\xa7\\x896\\xff\\x00,\\xe6\\xb4\\xcb\\x10\\xe0\\xae}1D\\x81\\xc8\\x0e\\xa4`\\x1e\\xf4\\x05\\x8ak\\xa6\\x95 \\xea\\x12\\x89\"\\x1d#U\\xda\\x87\\xfd\\xeer~\\x87\\x8a\\xd1\\x8eh\\xa5\\x1eS\\x15\\xe3\\x80q\\xc0\\x14\\xd1)u\\xd8\\xea0z{\\xd5y\\xa0\\r\\xca\\xb9\\x19\\xeb\\xda\\x90\\x17<\\x98\\xb2I\\xc6{zTo\\x80\\xd8\\x18S\\xec{\\xd5Ar\\xd0\\r\\xd2\\x1c\\xa8\\xe8\\x05M\\x04\\x8f<~`\\xc2\\xa9\\xe8\\xbd\\xe8\\x01\\xcb\\xc7\\xccW\\x07\\xf0\\xa5y\\x81P\\x80\\x90s\\x9a\\x03\\xc8\\x17\\x9d\\xb8\\xfa\\nU\\x1b\\x88*\\xc0\\x9e\\xfe\\x94\\x01\\x06\\xa9p\\x82\\xd6BAP\\xa0g\\xf3\\xe9\\xf8\\xf4\\xac\\xd4\\x81\\xbe\\xca\\xf6\\xca\\xfb\\x15\\xa4\\xdd.\\xd3\\xd7\\xf1\\xa9|Sq\\x06\\x9el\\xe2\\xc6e\\xbb\\x99A\\xdd\\xc8\\x18\\x19\\xfe\\x94\\x91Z\\xbc6\\xe1d\\xfb\\xf2\\x1d\\xc7\\x079\\xa0\\t\\xa5\\x8dZ\\xcdY2D\\x7fw\\x1e\\xd5\\xeb\\xbe\\x07\\xd5\\x17U\\xf0\\xe5\\xbc\\xbb\\x89\\x96\\x10!\\x97=w\\xa8\\x19?\\x8f\\x07\\xf1\\xaf\\'\\xb5\\x04\\xc0\\xf1\\x95\\xc6\\xde\\xd5\\xd3\\xfc0\\xd4E\\x8e\\xaf&\\x9b&\\x16+\\xbeS\\x9f\\xf9h?\\xc4g\\xf4\\xa6\\x86\\x8fM\\xa2\\x8a)\\x8c(\\xa2\\x8a\\x00(\\xa2\\x8a\\x00(\\xa2\\x8a\\x00(\\xa2\\x8a\\x00(\\xa2\\x8a\\x00(\\xa2\\x8a\\x00(\\xa2\\x8a\\x00(\\xa2\\x8a\\x00(\\xa2\\x8a\\x00GeDgc\\x85Q\\x92}\\x05xf\\xb9|\\xda\\x96\\xb5w|\\xdb\\xb6\\xcd)\\xdb\\x93\\xd1G\\x00~X\\xafX\\xf1\\xcd\\xe9\\xb2\\xf0\\xcd\\xd1V\\xc4\\x93\\x0f%>\\xad\\xc1\\xfd3^D\\xb0\\x14`\\x1cdc\\x14\\t\\x92\\xda\\xc6\\x04j\\xbc\\x96c\\xc9=i\\xba\\x9c\\xa7h\\xdc\\x15\\xceq\\xd7\\xa5M\\x95]\\x9e\\xb9\\x1f\\x85A\\xab\\xc7\\xb9\\x94\\xc7\\xb7~9\\xf7\\xa4\\xc4Cj\\xbei(\\x1c\\xe5FG\\xd2\\xaf[\\xe0\\x10\\xaf\\x8c\\xf4\\xcf\\xadP\\xd3\\xe6\\x8ek\\xcd\\x886\\x95R\\x8e\\x87\\xb7\\x19\\x1f\\xca\\xb4T\\x90r@&\\x80D\\xecAC\\x86\\xc9\\x1c\\xd3p\\x0f\\xcb\\x9d\\xc7\\x15\\x0bH\\xdb\\xcb\\xaf\\xe4\\x0fJ\\xcc\\xf1\\x1c\\xb3\\xfd\\x80[\\xdb\\xddIiqr\\xfeT\\x13\"\\xe4\\x87\\xc1#\\xd8}\\xdcs\\x8e\\xb8\\xebH\\r\\x91\\x133z\\x9e\\xc7\\xa5;\\xc8-\\xce\\xe1\\x8e\\xb5\\xe6\\xba\\x86\\xb5\\xac[\\xd9\\xcfqy\\xa8\\xdf\\xd9\\x0bD\\xc3\\x11\\x13\\xcd\\xd1\\xb9\\x91@\\xc1%\\n\\x90T\\xe42\\x92~\\\\\\x8a\\xc8\\xf17\\x88|Y4\\x1edCQ\\x8ak(\\xd9\\xef\\x7f\\xb2\\xee\\xd2\\xe1\\x15\\xc6$S\\x90C\\x14*\\x1dJ\\x95\\xe0g\\x9e*\\xac\\x17=x\\x85R7\\x80y\\xe34\\x8a\\xe8\\x1b\\x057\\x13\\xd3wj\\xf0\\xb9\\xfe k\\x96\\xfa\\xad\\xd6\\x9e\\xb1\\xeaW\\x17\\x0b\\x0b<\\x898d\\xfb\\x1a\\xee\\xc6\\xe9\\xc62\\xbdr\\x04g\\x93\\xb5r3\\xba\\xb3\\xfcM\\xe3\\x8f\\x18\\xe9\\x9a\\x04Vz\\xcd\\xf8\\x92\\xca\\xee\\xeb6\\xfa\\xfe\\x9f\\x19/\\xe5\\x81\\xb8\\xe659\\xe3#*p0\\x0e\\x19\\xb9\\x14\\x05\\xcf~\\x96\\xf6\\x08\\xa4*_sw\\x03\\xa0\\xa9\\x95\\xc3\\xae\\xef\\xba\\xa4w\\xaf\\x9f\\xf4\\x1f\\x1fk\\xb7\\xbaF\\x94|=\\x03,\\xfen\\xcb\\xddKS,\\xd6\\xc6F,\\x9eZ\\xe0n~J\\xb0#\\x1c\\x02\\x0f9\\xae\\xad|{s.\\x8d\\xab\\xc9\\xa9\\xc8\\xd6\\x17\\xda8\\x1fm\\xb7\\x8eE!N\\x0e\\xd9\\x91\\xcf/\\x03\\x8f\\x98\\x1c\\xe4d\\x8eq\\x9a\\x02\\xe7\\xa9\\x98\\xd7>f\\xd2\\xca;\\x8e\\xd5\\x1b\\\\\\xc4\\xc7b\\xc7\\x93\\xdf\\x15\\xf3\\x06\\xb5\\xe3]SS\\xd5\\xa3\\x9bK\\xf1n\\xa3\\xa6A\\x04f{k\\x8d\\x8f3^,\\xac\\xa3\\x060\\x0e\\xc4B2\\x0b\\x80N\\xee=N\\xb6\\x8d\\xe3\\xab\\xadg\\xc2\\xb77\\x17\\xfe#\\xd4t[\\xd4\\xb3]\\xa7\\xc9\\x9aI&\\x98\\xa1\\x0f(\\xdap\\x146=\\x07#\\x81\\xc5\\x16\\x15\\xcf\\xa1b\\x84]82>\\x14\\x0e\\x15\\x87J{\\xc5-\\xb3n\\x88\\x82\\x83\\xb5x\\xff\\x00\\x825\\xadg\\xc7\\xf6?l]f\\xfbK\\xb8\\xb3\\xd3\\x96\\xe5a\\x86e\\xd8\\x8c\\x10\\x95\\x96f\\xc6$\\x0c\\xe0\\xe2<\\x8c\\x00w\\x02zw_\\x0f5{\\xaf\\x10A\\xfd\\xa2.\\x0c\\xb0\\x88\\xa2\\x86\\xe2\\'\\x0c\\x9e\\\\\\xe1Y\\x9c\\x05<\\xe7\\xe6\\\\\\xfam\\x14\\x86t{\\xa4\\x90\\xfc\\xcd\\x82}{V\\x8c\\x11Gol\\xd3\\xce\\xdb\\x11\\x06I\\'\\x9a\\xae\\xa3$\\x11\\xc8\\xf45<\\xc7\\xcc\\x0b\\x18\\xc0\\xfe\\xeeF@\\xf7\\xa43\\x8e\\xf1\\x0c\\x83T\\xf16\\x95\\x1b\\x0c\\r\\xf2L\\x14\\xf5\\x0b\\x80\\xa0\\xfe\\xa6\\xb7\\xc3\\x16~\\xa0l\\xe0c\\xb0\\xaeSD\\x9d\\xf5\\x0f\\x1d_\\xdco. Qm\\x1b\\x9e3\\x8c\\x92q\\xf5\"\\xba\\x95\\xf2\\xe0a\\x1c\\x8e2z\\x9f\\xeb\\x9a\\x04X\\x83\\xe5~\\x9c\\x1fJX\\xe6{K\\xe8\\xae\\x91\\xb1$r+)\\xf7\\x04\\x1a\\x8c\\x90]\\x04}\\x0foZt\\xaa>\\xff\\x00\\x1e\\x9c\\x7fJh\\x0fn\\x82T\\x9a\\x08\\xe6\\x8c\\xe5$P\\xca}\\x88\\xcd>\\xb9\\xbf\\x87W\\xc2\\xf3\\xc3\\x91\\xc4Nd\\xb6c\\x19\\xcf\\\\u\\x07\\xf2\\xe3\\xf0\\xae\\x92\\x99AE\\x14P\\x01E\\x14P\\x01E\\x14P\\x01E\\x14P\\x01E\\x14P\\x01E\\x14P\\x01E\\x14P\\x01E\\x14P\\x01E\\x14P\\x07\\x9d|U\\xd4\\xdb\\xfbN\\xcfM\\x8c\\x82\\xb1\\xaf\\x9b \\xcfv\\xe0~\\x80\\xfeu\\xcd\\x10\\xa4t\\xc8\\xea\\t\\xa8\\xfcSx\\xd7\\x9e*\\xbd\\xbb91\\x99LjA\\xe7\\x0b\\xc0\\xfeT\\xb0\\xeee\\x1bO\\x0c9\\xe3\\x9a\\x04A*\\xa8\\x95\\x0f\\x00\\xe7\\xeb\\x9a\\x96x\\xb7\\x86\\x90\\x1c\\x95\\xceE2\\xf6\\x13\\x1c\\x88\\xf9!z\\xf1R\\xc9\"\\xc7l\\x1c\\x822p\\x07\\xad!\\x18pN\\xf1\\xea1\\xb6\\x14\\xc6\\xed\\xb5\\xfd\\xbd\\rl\\xe0y\\xad\\xb4\\xe4\\x03\\xeb\\xd6\\xb0.\\x9b\\xc9\\x94g\\xa30\\xdb\\xc7|\\x8a\\xd3Y\\x9f\\xce? \\xf7\\xe3\\xa1\\xa0\\x0b\\xc5J\\xb6\\xe6#\\x18\\xecqPj\\x06?\\xb2\\x88\\xa7T1\\xccDl\\x18\\xe3p\\xf4\\xcfc\\xc1\\xc1\\xf5\\xabH\\xd1\\xc8\\x80\\x85\\x1e\\x87\\x8cb\\xb0\\xbcx\\xe6=\\x069\\x16\\xd6\\xf6\\xe5D\\xcb\\xb8Z>\\xc9G\\x07\\r\\xbb#\\x00\\x1cg\\x91\\xc6h@q^\"]b\\xe2\\xe14\\xcb=2MGLy%\\xcc\\x9etpK*\\xab\\x96\\xc4L\\xdf\\x7f\\xa9\\xce\\xe5F\\xea\\x030\\xc18\\xda\\xed\\xd4s\\xfc>\\xbe\\xb8\\xbb\\xfbl>!\\x85$\\x8e\\xc2\\xd6_\\xdd\\x8cHv\\xe60\\x83nB\\x92H#9\\x8d\\xb8\\x19\\xa9u\\xedj\\xf2\\xc5\\xb4\\xcdI\\xae\\xe1\\x8e\\xd3\\xceV\\x92\\xda\\x1b\\x87\\x94\\xfc\\xc4\\xfc\\xd9`2\\x0epIa\\x9f\\x97\\x1c\\x80k?\\xc7z\\x97\\x80\\xf5\\xd8m\\xe7\\xd3\"\\x96\\xefT/\\xf6\\x84\\xb3\\xb3_&\\xea=\\x8cL\\xc7y\\xc1\\x07\\x0f\\xbd\\t\\xf9\\x0b \\xe0\\xe6\\x98\\x8e\\x82m\"\\xe7Q\\xd2\\xa2\\xd5\\xe0\\xd4nE\\xc5\\xc0\\xf3$[HT,J\\xab\\xb3\\x0cya\\x9d\\xf8\\x18a\\x90:U+\\x7f\\x0fX\\xcd\\xe1mJ#\\xf6\\xb8\\xca\\x8f\\xb3>\\xd2\\xed\\x1c(\\x06S\\xf7c\\xa2\\x95\\xdaw.I\\'$\\x1e*\\xb8\\xbe\\xf1\\x0bjV\\xeb\\xafIs\\xe1\\x1bf\\x89E\\xcc\\xf6\\xd1\\xa5\\xc3]\\xbf\\x069\\xa5\\xc0x\\x11O\\x1b\\xe3_\\x9b-\\xc9\\xdb\\xc8\\xed-.|S\\x1d\\xf5\\xbd\\xef\\xf6^\\x97\\xae\\xdb\\xbd\\xb9I\\xe7\\xd1g\\x10\\xc9*`yn\"\\x98\\xec\\x04r\\x08\\x12\\x1e\\t\\xee\\x06\\x01\\xd8\\xf3\\xaf\\xed\\x0b\\xdbO\\x00\\xdbY\\xdf\\xbd\\x9d\\xc6\\x96\\xd72\\xda\\xcf\"\\xc5\\xbeE>d\\x8b\\xe6\\xa8\\x04d\\x10Kf@0v\\x81\\x91\\x8c\\xd0\\xb0\\xf0z\\xea\\x1e*\\xf0\\xe6\\xa5=\\x96\\xa0\\xbaM\\xa6\\xa1\\xf68\\xae\\x08\\r%\\xec\")\\'\\x0b\\x87\\xea\\xa0\"\\xe1v`\\x82y\\xc9\\xc0\\xed<3m\\xa0\\xa6\\x95\\xa9__\\xcc\\x1a\\xcc\\xde\\xb4R\\\\I\\x10\\x8e\\x18\\xbc\\xc1\\xe6E\\x85\\xc6A\"e\\xcb\\xb0\\x07\\x9cd\\x8c\\n\\xe65\\xdf\\x15\\x1d3\\xe2V\\x93b\\xd6\\xf3\\\\\\xe9\\xf6\\x89<\\xa2\\xd6\\t@Iw\\xaa\\xa1u\\xdf\\x8d\\xae\\x15\\xdc\\x0cu\\xda\\xb8\\xfb\\xc6\\x81\\x1d/\\xc5\\x18\\'\\x8a\\xda\\xee}3@\\xb9\\x9a\\x05\\x8d\\xae\\x15\\xa1\\x8e(\\x94\\xaf\\x05\\x81\\n:\\xb0Lmld\\xf4\\xe4b\\xb8\\x9f\\x07xz\\xea\\xf7N\\xf15\\xb6\\x90n\\xaf-\\xf4\\xb9\\x9d\\xa1\\xb3h\\xd3\\x12\\xc4\\xcad\\x84y\\x98\\r!\\xda\\xd1\\x9d\\xb9\\xc1\\x1b\\x87q\\x9e\\xd55\\x9dG_\\xb2\\xd5\\xb4\\xd8\\xa5\\xd3\\xb4?\\x0cOj\\xadu%\\xb42=\\xd4\\xa2]\\xc1\\x99I\\xc0;Pd\\x9d\\xbc\\x13\\xb7\\x90+:\\xcf\\xc3\\xf2^|7\\x93\\xc6\\x1e\\x13\\xbc\\xbb\\xd1\\xfcSk\\xbeG\\xb6\\xb5\\xbcqku$D\\xfc\\xaf\\x1fI~@\\x10\\x13\\xc6\\xd3\\xdcb\\x802>\\x10\\xf8b\\xca/\\x16k\\x1ar]\\xdc\\xeb\\x16ihKF\\xe4\\xa4BUb\\t\\xd9\\xd0\\r\\xe5\\x86\\xd6\\xfb\\xb8\\x1e\\xf5\\xde|$\\x84\\xde\\xea\\xda\\xf5\\xe7\\xd9\\x16\\xd1m\\xf5k\\xb6\\x926`\\xd2F\\xcc\\xfbV\\x06\\xea\\xab\\xb1W8S\\xddy\\xc1\\xe7\\x0f\\xc2\\x8f\\x1c\\xfe\\x16\\xb2\\xf8\\x83\\xe0\\x91%\\xc2XHl\\xb5M>,\\x89%\\xb3\\x11\\x8f9\\xd5[\\x05\\xe6\\xca\\xa4\\xe38$\\xe4u\\';\\xbf\\x04\\xad%}\\x0e\\xdf_K\\x98Tkw\\xb7W\\xf2\\xdb\\x90|\\xc2\\x1d\\xdbkd\\x92I\\x00\\x05\\xc9\\x14\\x05\\x8fJp\\x17\\x04\\x83\\xb8\\x1e*\\xbd\\xdc\\xbe]\\xa5\\xc4\\xa4\\xe3b\\x13\\xed\\xd0\\x9a\\xb6\\xd2\\xaf\\x98\\x15\\x88\\\\\\x9e\\x98\\xac\\xcdu\\xa3\\xfb$\\xf1\\xa3\\xe4le\\xfa\\xe4T\\x8c\\xe4\\xbe\\x1f\\xda\\xcba\\x02\\xbd\\xc29\\x9e|\\xca\\xe4\\x8f\\xe2n\\x7f\\x91\\x15\\xd5>\\xd0\\xdb\\xf6\\xe5\\x80\\xe4\\x1fZ\\xabaj&\\x86\\x1b\\x87f\\x83\\xca\\x00\\x80:\\x908\\x03\\xf2\\x152?\\x9c\\xae\\xc0m \\xf6\\xe9@\\x89\\xd3q\\xcbl#<\\xf1M\\x98\\x07P\\xf1\\x93\\xc7\\xaf<\\xd1\\x11eS\\xceI\\x1d\\xa9\\\\\\x03\\t\\x08z\\x1e{\\x11M\\x0c\\xea\\xfe\\x15\\xdd\\xf9:\\xcc\\xb6\\x85\\xb2.#\\xcf\\x07\\xf8\\x97\\x9f\\xe5\\x9a\\xf4\\xca\\xf0\\xef\\x0f\\xde\\xfd\\x8b[\\xb4\\xbb\\x1f*\\xc5(\\xdd\\x8e8\\xe8k\\xdcA\\x04dr\\r1\\xa0\\xa2\\x8a(\\x18QE\\x14\\x00QE\\x14\\x00QE\\x14\\x00QE\\x14\\x00QE\\x14\\x00QE\\x14\\x00QE\\x14\\x00U\\x1d~\\xf4i\\xba%\\xe5\\xf180\\xc2\\xcc\\xbf\\xefc\\x81\\xf9\\xe2\\xafW\\x1b\\xf1n\\xf0A\\xe1\\xb4\\xb4\\xdd\\x86\\xba\\x98)\\x03\\xba\\xaf\\'\\xf5\\xc5\\x00yq]\\xd6\\xe6FVg\\xdd\\xbb\\xa5Y\\xd3o\\x8cH\\xc4\\x8c\\xa7\\xb1\\xe9IhF\\xdd\\x9c\\xf2;\\xf7\\x15Z{R.6$\\xa63\\xd4\\xf1\\x9c\\xd0M\\xcd\\xe7x\\xee\\xed\\xf7C\\x82q\\xcf=\\xab:\\xda\\xe5\\xac\\xee\\xbc\\x89\\x15e\\x18\\xca\\x96\\x15\\x04\\tqi:1\\x9d\\x0e\\xe1\\x9f\\x93\\xa9\\x1fJ\\xbb<Iu\\x18\\x91\\x8a\\xfa\\x8c\\x7fQ@\\x1c\\xc7\\xc5?\\x13\\xff\\x00b\\xd8i\\xe6\\xda\\xcb\\xce\\x9a\\xea\\xecD\\xb1\\xc5\\x0e\\xf9%$\\x1c(\\x1d\\xbau\\xad9fO<\\xa4dm\\xf5\\x079\\xac\\xef\\x11\\xe8z\\xbf\\x89/\\xf4\\xbd\\x0bA\\xb7I\\xae\\xde\\xe0\\xcb,\\xf2\\x1c%\\xb4A\\x18\\x17-\\xce9 {\\xe6\\x9fy\\x03\\xda\\xea2\\xd9\\xca\\x03\\xcbn\\xde\\\\\\x85z\\x16^\\t\\x1e\\xa39\\xa4#j\\xd9\\xda$\\x01\\xb2w\\x1e\\x87\\xadS\\xf1\\xbc\\x12_\\xf8~8\\xd17m\\x9dY\\xc8 \\x14P\\xa7\\xe6\\xc9!F\\x0e:\\xfd0sO\\xb5\\xfbC\\xa8\\x8c\\xc6F\\x06w\\x0fO\\xadC\\xe2MA\\xb4\\xfd>)R\\xe3\\xc9\\xc4\\x80>\\x13s\\xb0\\xe8\\x00\\x18=\\xf0s\\xed@\\xd1\\xc0]\\xe9\\xda=\\xd6\\xf95\\x0bK\\xa5\\x86]\\xf6\\xbbE\\xa7\\x92\\xb2!\\xda2T6\\xe6R\\x10\\x90\\xa4/\\xa7J\\x9b]\\xd2\\xb4\\xeb+\\x87k;\\x16\\xc5\\xdd\\xccB)\\xa2\\x9c\\xcdr\\x07\\xca\\x125~\\x8a\\\\+\\x0e\\x0b\\x1c79 \\x00kqjS\\xb5\\xe4\\xday\\xb5\\xb7\\xb7\\xb9\\x85c\\x91\\xd2\\xddQ@\\\\\\xfc\\xd9\\'\\x94]\\xc0\\xe4\\xe07\\xd3\\xaf\\x9d\\xe8\\x13x\\x8fX[\\xdd.\\xc3P\\x82\\xcfL\\xb2\\x9aM\\x96\\xcb\\x17\\xc8\\xc0\\x86$\\x8e\\xed\\x9c\\xbe\\xd2\\xa7\\x03vF\\x0e\\x051\\x1e\\xd3i\\xe3;]0\\xad\\x86\\xafnR{\\'X\\xd5\"\\x89\\xbe\\xe9\\x1f\\xbbvV\\x1f/\\xcaq\\x8e@*}\\xab\\x95\\xf1\\x07\\x89\\xf5\\x0f\\x0c\\xde\\xdf\\xf8\\xa3B\\xd3d\\xb5\\xd3$cqqcy\\xfb\\xb2en\\xb7\\x16\\xceIA\\xe6\\x01\\xf3\\xc6\\xfbs\\x80\\xc3\\xe6<\\xbbV\\x8f]\\xd2\\xe3\\xba\\xf1$p\\xe9\\xba\\x84v\\xfav\\xdb\\x98Y\\xa5F\\xb8Pw\\xa8\\r\\xf3n9,\\xa0\\x1f\\xbc\\x19y\\xce*\\xd5\\x87\\xc3\\x8f\\xed\\x18\\x17S\\xf1\\xb4\\x92]\\xdd\\xcc\\xfe{i\\xd2]\\x9f\\xb1Z\\xb1\\xe4F#\\x04\\t6\\xff\\x00y\\xb3\\x93\\x93@\\x1e\\x0fwo\\xe1;\\x9d=\\xee\\x07\\x89\\x9fQ\\xb9h\\x95\\x8b\\xde\\\\\\x88\\x8a\\xe1\\x00T\\x10\\x8cn!U\\x06I\\x03\\x0bU\\x7f\\xb4\\xf4\\xdb\\x04\\x1a\\xce\\x9d\\xaeE\\x05\\x8eM\\xac\\x9a4\\x8e&\\xbb\\x83x\\x8c\\xb4\\xb1\\x13\\x90\\xc9\\x98\\xe3#-\\x95\\xdaF\\x05}=\\xa8\\xf8[\\xc2\\xd3\\x01>\\xa3\\xa4\\xc1\\xaa\\xdd\\x01\\xe5[\\xa5\\xdc$\\x81\\xb8\\xe3\\x11\\x86\\x18Q\\xd3\\xee\\x81\\xd2\\xa8k~\\x0f\\x86\\x0c\\xdc[ZZY\\xddf<-\\x92\\x98\\xa0T$\\x8f*@\\xa7\\x90\\x01$0\\x00\\xe5\\x8er\\x07 \\x1ee\\xf0\\xcfX}\\x7f_\\xb8\\xd0\\xef\\xa0\\x8e\\xf5b\\x06m2;y\\x99\\xe3\\xfd\\xe0&I\\x01O\\x98\\x06s#\\x85\\xe8\\x85\\xf6\\xf4\\xc5P\\xf1\\x8e\\xb1\\xa1\\xe8:\\x8d\\xf5\\x95\\xad\\xc4Z}\\xce\\xb1h],\\x9e\\xf2Y\\xa2\\xb2\\x9d\\xc2\\xc2\\xfb\\xd4\\x9e\\x18\\x8f\\xde\\x02F6\\x82:\\x1cU\\xaf\\x1c\\xfc6\\xd1tH\\xae<T\\xaf\\xa8xv$\\x90G(\\xd1\\xe6g\\x16\\xf2\\x13\\x92\\xdb\\x80\\xc9\\x0c\\xb9\\x00p\\x01\\x03\\x9ex\\xe9\\xf5\\x0f\\x85\\x96\\x1e\\x11\\xf0\\x1c\\x1a\\xe5\\xb4\\x1a.\\xbbgl\\x9fo\\xbei\\xec\\x84\\x977\\x102\\x12\\xe4HY\\x84\\x87\\xe6\\x0c8\\\\\\xe0\\xe3\\x19\\xa0\\x11\\x81\\xe2/\\x1dK\\xe1;+\\x7f\\x15xlG\\xa9\\x0f\\xec\\xe5\\xd15\\x18\\x83\\x8f*G\\x81\\x02Aw\\x0b.A\\xd8@BG\\xf0\\x90\\x0f\\'\\x8fF\\xf8)q\\xfd\\x9d\\xe0m\\x1a\\xda[\\x85\\xba\\x92KX\\xd9\\xa4E\\xd87\\xb2\\x97d\\xfb\\xc46\\xd2\\xcd\\xce\\x07$\\xf4\\xaf \\xf8\\xa9\\xa0I\\xf0\\xafJ\\x7f\\x0e\\xc5\\xfe\\x99\\xe1\\xff\\x00\\x13X\\x07\\xb7G\\x93\\x12\\xd8\\\\`o^\\xe4\\xa9 \\x1c\\x1cg\\x1cc\\x06\\xbd\\x97\\xe0\\xc5\\xfe\\x9f?\\x844;k;h\\x8c\\xd6\\xfaE\\xb3\\xdd\\xdc\\xec\\xda\\x10\\xba\\x10\\x15{\\x16&3\\x9cc\\x18\\xe7\\x9e\\x003\\xb4\\xb8\\x9c\\x14S\\xca\\x9c\\x1c\\xe6\\xb3u\\x1b\\xa5\\xfb\\x04\\xf2\\x16\\xf9R&9\\xe8\\x01\\xc1\\xab\\x9a\\xc6\\xd3\\x18\\x98\\\\FUG*O&\\xb0/\\xe67v\\'M\\x88\\x08\\xcd\\xd9\\x10\\xa4\\x84g\\x05\\xfePq\\xf8\\xd2\\x11y/\\x1e\\x1d\\x02\\xd9\\x1a)\\x1a\\xe6x\\xc3\\x95Q\\xf7s\\xdb\\xf5\\xad\\x1d>\\xda\\xe1-T\\xc9\\x13\\x07<\\xed\\xf6\\xa7Oe\\xacxJ\\xf2+M{\\xc9\\xb9\\xb8\\xf2\\xf1\\x1c\\xf1\\x02\\x12d\\x07\\x01\\x80=\\x0f\\x1c\\x8c\\xf1\\x9e\\xe3\\x15\\xa1\\x06\\xb7o(\\xfd\\xd4c\\xcc\\xc7\\nz\\x9f\\xa5!\\x99Oqr\\x19\\x91\\xe1\\xd8\\xc0\\xfeu-\\xacW\\x13HB\\x81\\xb4\\x0f\\x98\\xd4k\\xa9\\rj\\xe5\\xed\\xd2\\xdd\\xa2h\\xc6L\\xa1p~\\x95\\xb0\\x90Gko\\xb5\\xd9\\x94\\x01\\xd7\\xb9\\xa6\\x06ki\\xf2\\x84i\\xbc\\xc21\\xf7\\x81<\\x1a\\xf6\\x8f\\x0c]\\xad\\xf7\\x87\\xecnT\\xe7t*\\x0f\\xd4p\\x7fPk\\xc5uMT\\x18\\x8c0\\xa8\\x08F\\x0b\\x13\\xd6\\xbdC\\xe1]\\xe8\\xbb\\xf0\\x94Qd\\x17\\xb6v\\x89\\xbf=\\xc3\\xff\\x00B\\xfd)\\xa1\\xa3\\xab\\xa2\\x8a(\\x18QE\\x14\\x00QE\\x14\\x00QE\\x14\\x00QE\\x14\\x00QE\\x14\\x00QE\\x14\\x00QE\\x14\\x00W\\x9a|`\\x98\\xbe\\xa7alO\\xca\\x913\\xe0\\x1e\\xe4\\xff\\x00\\x80\\xafK\\xaf \\xf8\\x8b:\\xcf\\xe3+\\x80O\\xfa\\x94H\\xd7\\xd8\\xe3?\\xd6\\x813\\x12<l\\x1bx8\\xef\\xd3\\x14\\xfb\\x90\\xafm\\xba<n^\\x8cz\\nb\\x12\\xac\\x03\\x1c\\x8c\\xf2\\xa7\\x8a\\x95\\xe2V\\x88\\xbf\\xccq\\x8e3\\xd2\\x82J\\xb7\\x02Cg%\\xdcQ\\x99\\x1e\\x01\\x96\\x8cr\\xc4w\\xc0\\xf5\\xaa\\xdaV\\xb7\\x1c\\xb6&\\xee\\xd5\\xc4\\xa9\\x92\\xa5\\x1f\\x82\\xac:\\x82=j}6\\xeb\\xc9\\xd5L*\\xcc2\\x7f0{W?\\xe1{f\\xbf\\xf1\\xb6\\xa9\\xe1\\xc8\\xf3\\x1c\\xb77\\xc0\\x80\\x7f\\x85I\\xf9\\x9b\\x1fNh\\x03\\xdb~\\x12i\\xfe^\\x84\\xfa\\xc4\\xf0\\xa2\\xdc\\xea\\x0e[ t\\x8dN\\x14\\x7f3\\xf8\\x8a\\xe0<Sm\\xb7\\xc6\\x1a\\xa7\\x95\\xb5c\\x17\\r\\xdb\\xa1\\'\\'\\xf9\\x9a\\xf6\\xdb+hl\\xec\\xe1\\xb4\\xb7]\\x90\\xc1\\x1a\\xc7\\x1a\\xfa(\\x18\\x15\\xe0\\xde6i!\\xf1\\xc6\\xb1\\xb5\\xb6\\x86\\xb8\\xceG^\\x82\\x82\\x9e\\xc47SMh\\x85\\x97i\\xdc}\\xb8\\xaeO\\xc6\\x11\\xcb\\xaai\\xeb\\x1bF%\"ev&B\\xbbF\\x08$c\\xaf\\x07\\x18\\xe3\\xae{V\\x8d\\xed\\xc3\\xa4\\xfbCng\\x03\\x8c\\xe7\\x06\\x9b}\\xa3\\x9b\\xbd9\\x8c\\xcd*\\xc9\\xb9Z4\\x8c\\x1d\\xed\\xed\\xc7CA\\'+m\\xa3\\xe9\\xebl\\xbau\\xf4\\xb2\\xddC\\x1a\\x8f%e\\x91\\xd6%\\xe0\\x05\\xe389\\'=\\x7f:\\xc7>\\x13\\xd6,\\xefm.4\\xe8/\"\\xd4.A\\xb7\\x96\\xd9\\xa4\\xf9\\'#\\x94|>\\xe1\\xb0`\\x06\\x07n\\xd0\\x17\\x9eTWqid\\xd2\\xea\\xab\\xa6i\\x17\\x93XF\\xec\\'\\xba\\xbc\\x8aNc\\xc9P0\\x83\\x1bH\\x1c\\x16$\\x1c\\x0e\\xfc\\n\\xb9\\xa1\\xda-\\xb7\\x9f\\xab_\\x88\\x96\\xe6\\xe6\"\\x96lY\\x8c\\xbeN\\xf2C\\x16\\' \\xb1\\xda@\\xc2\\xe0c#9\\xa0\\x0c\\x1b\\x1d3^\\xd65\\xfd+F\\xd6\\xafd\\xfbv\\x9b:\\\\\\xc9oij\\xd0\\xd9\\xaa\\xc4\\xf9Yym\\xb2\\x00\\xca\\xa0g\\x9c\\xb0\\xc0\\x1c\\x9a\\xef\\xb4\\x1d^\\x1dV\\xe6\\xea\\x1d\\xf0\\xb4\\xb0\\x10c\\x95\\x01\\x0bs\\x19\\x1f\\xeb#\\xcfU\\xdd\\x95\\xc8$q\\xf4\\xaez\\xe7U\\x96\\xde\\xfe\\t\\xadP\\xcbyk\\x13\\xdd\\\\[\\xcbq\\xfb\\xc1\\x08R\\x91\\xc5\\xc0;w\\x16G\\x03\\x8eW\\xb5l\\xbd\\xb5\\x8f\\xd9\\xad\\xeeXCuqo$\\xae-\\xb6\\xb0\\xf9\\x9f\\x97P\\xbdS\\x19\\xe3<{\\xf3@#Y\\xa3\\x91_{\\x9e\\x99\\xf2\\xd3\\xd3\\xdf\\xdc\\xd5imm\\xa5\\xc8\\xbbs\\'\\x9a\\xe0\\xbe\\xe2pH\\xe4q\\xf8TZ\\x0c\\xa95\\xb4\\x12\\xc0\\xf24\\x0e\\x9cy\\x9c2\\xb0\\x1fu\\x87B}\\xc7\\xff\\x00^\\xaf\\xdcY\\xc5r\\x02H\\xee\\x88\\xa7?!\\xc1c\\xe9@\\xce;_\\xd1\\xb4\\xeb\\x8b{\\xac\\xdd]\\xad\\xb5\\xbe\\xe0\\x16\\x072\\x13\\xc0v\\x04\\x13\\x86\\xe7h\\x0b\\xd3\\xaf\\xadd\\xeb\\xd6\\xba\\xbd\\xaf\\x80u\\r*\\xc3\\xec\\xab\\x1d\\xc7\\x97e\\x7fi\\x01e\\xb6\\x85n\\x1d#\\xf3\\xed\\x81\\xe20\\x03\\xb6\\xe8\\xc6\\x06A \\x0e\\x95\\xdf\\xa5\\xb2\\xac\\xd1\\x90\\xb1\\xc3\\x12HdA\\xc09\\xcf\\x1f\\x87\\xf8w\\xae[\\xe2e\\xd5\\xb5\\x9f\\x86\\xf5o:<i\\xb7ZU\\xcd\\xb1\\x911\\xe5\\xac\\xb8c\\x1a\\xb8\\xea\\x01\\xe7\\r\\xd3q\\xc7\\x19\\x19\\x02\\xc6\\x07\\x8dt\\x0f\\xf8L\\xbc;\\xe3-FR\\x1a\\xda+Y\\x0e\\x96\\x825\\xc6\\xd8bp\\x923\\x11\\x92\\x0e\\tR\\xa4\\x0c\\x10G\\\\\\xd71\\xfb?.\\xbb\\xfd\\x99\\xa3\\xddj\\xb7\\xee\\xf6\\xb7\\x16Lm\\xa2\\x0f\\x851F<\\xa8\\x94\\x0c\\x0c2mr[\\xbf\\x98+\\xd4|K5\\x84Z^\\xb1\\xa7Oo\\xbe\\xd3\\xfb\\x1a&H\\xe1\\xe3\\xf8]0\\xa3\\x80\\x02\\xed^\\xbc`\\xd75\\xfb2]\\xac\\xdf\\n\\xec\\x9e[\\x81\\xe6G<\\x96\\xa58\\xc6\\xd4f g\\xf1&\\x813\\xa6\\xd5\\xa2\\x92U_)\\xf1\\x1fV\\xe7\\x9ae\\x84!\\xb5\\xad.6|\\xaf\\xda\\xe2\\x03\\xeb\\xbcWO,V\\xb7\\x0f\\x89U\\x18z\\x8e\\xb5[O\\xb0[_\\x14i\\x88-[o\\xdaP\\xac\\x81\\t\\x03\\xe6\\x1c\\x1ct\\xa0v=\\'\\xe3\\x16\\x9f\\r\\xcf\\x82\\xae\\xf5\\x07M\\xd2i\\xa8\\xd7K\\x81\\xce\\xd5\\x1f0\\xfc\\xbf\\x95x\\x1e\\x99o\\xae\\xba\\xa5\\xd6\\xa9\\x1d\\xdd\\xd6\\xa7p\\x04\\x96\\xfau\\xaa\\xedKd<\\xaf\\x9a\\xc3\\xabc\\xb7\\x18\\xaf\\xab&\\x8e9\\xa2x\\xa5Ex\\xddJ\\xb2\\xb0\\xc8`z\\x83^+\\xe2\\xdb\\x89\\xfc?\\xaf\\xcf\\xa5\\x19]b\\x1f<M\\x8f\\xbc\\x87\\xa7?\\xa7\\xe1H\\x1a\"\\xb1\\x10hzB=\\xda\\x08\\xee\\xa5;\\xa5@\\xd9;\\xbd\\xeb\\x03Q\\xd7\\'\\xbd\\xb8)\\x04y\\xcf\\xdd\\x15_Q\\xbb7.Y\\xe4f#\\x8d\\xa4\\xd6\\x86\\x93i\\x1cq+\\x88\\xf0Xgq\\xa0\\x08\\xect\\xd9\\'l\\xdc\\xb1\\xdcO#<f\\xbd\\x0f\\xe0\\xec\\xd1\\xc1\\xa8jzlroR\\x89/\\xd0\\x83\\x83\\xfc\\xc7\\xe5\\\\\\xa5\\xd4kmh\\xd3#\\x02H\\xe0\\xd5\\xbf\\x84Sm\\xf1\\x82\\xc8K\\x7f\\xa4$\\x88I\\x1dx\\xcf\\xf4\\xa2\\xe0\\x8fi\\xa2\\x8a)\\x94\\x14QE\\x00\\x14QE\\x00\\x14QE\\x00\\x14QE\\x00\\x14QE\\x00\\x14QE\\x00\\x14QE\\x00\\x15\\xe1\\xbe*\\x97\\xed\\x1e*\\xd4\\xe4\\x0e1\\xf6\\x86Pq\\xe8q\\xfd+\\xdc\\xab\\xe7\\xa9\\xe7\\xfbN\\xa3u8ly\\xd33{r\\xc4\\xf4\\xa0L\\x9c\\x0c\\x01\\x93\\x9fL\\x9eid\\x9aDFU\\xce\\x07^\\x05\"\\x9epA\\x03\\xfb\\xc3\\x1c\\xd4\\x92\\x95x\\xca\\xc69<du\\xa0\\x93:\\xe2\\xd8\\xdc\\xcae\\xb7b\\x92\\xa0\\xdd\\x1eO\\xde\\xf6\\xae\\xc3\\xe1>\\x95\\x06\\xa1\\xe2\\xb3\\xae\\xdcZ\\'\\xda\\xac-\\x8cBo\\xe2\\xcb\\xf1\\x83\\xdb\\xa0o\\xce\\xb9{\\xabic\\tos#BfVU\\x91N\\n\\xf1\\xd6\\xbd/\\xe0\\xbe\\x91.\\x99\\xe1G\\x96\\xe2E\\x96k\\xbb\\x86\\x93\\xcc\\x1dYG\\xca3\\xef\\xc1\\xfc\\xe8\\x1a;\\x8a\\xf0\\x8f\\x88\\x16\\x9eg\\x8d\\xb55Y_\\xe6\\x941]\\xb9\\x1fts^\\xef^+\\xe3\\xc9\\x16/\\x19\\xeanYG\\xcc\\xa3\\x1c\\xe7\\xee\\x8a\\x06\\xcc\\x93ch\\x90\\xe4\\x05,\\x07\\xdfn\\xb5\\xcdx\\x82\\xf1n-f\\xb1\\x99\\x95\\xe2\\xc69\\xe8G\\xbdlI<\\xd3\\xb6\\x10\\x00\\xbd0N\\t\\xa4\\xb1\\xb3\\x86\\xd6r\\xd7\\x8a\\x92\\xef9@\\xc3#\\xf2\\xa0\\x93\\x8e\\xb3\\xd0\\xa3\\x81\\xf1o\\xa7\\xcf7\\x99\\x18\\x0c|\\xd9>\\\\\\x8eU\\xb1\\x9c\\x8e\\xbe\\xbc\\xb1\\xec+bK]M\\xc46q\\xc3 \\x98\\xb0\\xfd\\xe4Y\\x1eY\\'\\x97l\\x90;\\xee\\xe0\\x8c`pzWVo-\\xe3V1\\x82\\x18r\\x14p*\\x01\\xacZ\\xa4\\x816\\xbe[\\xba\\x81\\xc9\\xa0\\n1\\xe9\\x16\\xeb\\xa9O\\x12C3Z\\\\\\xec2N\\xec\\xc4\\x87@\\x028-\\xcb`\\xe3\\xaf\\x04\\x1a\\xd6\\x8a\\xd2A2^\\x940N\\xaaa\\x99\\x13\\xa6s\\xf7\\x80=FpG\\xb1\\xaa+\\xab\\xee\\x91\\x9c0\\n\\\\\\xa4`\\x02v\\xaf@O<\\xe4\\x8e\\xd8\\xea*\\xfc:\\xaa\\x18\\xd0\\xca\\x9b\\xb7 $\\x8f^\\xe2\\x80E\\x88m\\x16%\\xdc\\x0e\\xec\\x9d\\xc4\\xb0\\xc1\\'\\xaej+\\x99n\\x95\\x0f\\x97\\x131\\xf5\\xdbP\\xb6\\xae\\x8b\\x19\\xdb\\x1eFx\\xa7.\\xb2L|F\\xbcs\\xcf4\\x0c\\xa7$\\x17\\xd2>Y\\x1f\\xd85T\\xd54Y\\xb5\\x1d.\\xf3L\\xba\\x81\\x9a\\xda\\xf6\\x17\\x82A\\x8c\\x8c:\\x90O\\xebZ?\\xda\\xee\\xdc\\xecL\\xfasS\\xdbj\\x123\\x02\\xc0\\x8cv\\xc5\\x02<\\x92I\\xb5M\\x7f\\xc3\\xbe\\x1b\\x9a+W:\\xee\\x90\\xf3C\\xacZ\\x93\\xb4\\\\E\\x00\\x11\\xddA\\x9e\\x80\\xca\\xe2\\x12\\xa7\\xfd\\xafL\\xd6g\\xec\\xf5~\\x97V>*\\xb4\\xb2ia\\xb7\\xb6\\xd7e\\x95#h\\xf6\\xe29>\\xea\\x95a\\xb9H\\xd8\\xde\\x9d}\\xab\\xd24HZ\\xdb\\xe2\\xee\\xbc\\xb7\\x11\\xa7\\xd9uKKIaB\\xbf*\\xcaD\\x91\\xb9\\x1e\\xeccL\\xfb\\x95\\xaf/\\xf8\\x1b\\x0c\\xd7?\\x17\\xbe\"G\\xa7\\xb2-\\xa2\\xea\\x0f$\\xa4\\xb6P\\xaf\\x9e\\xe0\\x01\\x8e\\x0bcv\\x0f\\xb1\\xf5\\xcd\\x00z\\xe2\\\\*\\x80Ca\\xfa\\xf3\\x93ZZM\\xfd\\xc4\\x9a\\xb6\\x9f\\x17\\x98\\xd97QeGq\\xb8u\\xa65\\xb2\\xc7nV\\xce\\x11%\\xcf|\\x81N\\xf0\\xf4:\\xac~!\\xb0\\xf3l\\x94\\xc5\\xf6\\x98\\xf7\\xbeFTn\\x1e\\xb4\\x0c\\xfa\\x0e\\xbc\\x9b\\xf6\\x89\\xd2\\xe4{\\x1d;\\\\\\x86g\\x8c[\\xb9\\x86l\\x0c\\x82\\xad\\xc8\\'\\xe9\\x83^\\xb3\\\\\\xb7\\xc5m2\\xefV\\xf0\\x1e\\xa5g`\\xf0\\xa5\\xd1Uh\\xdeo\\xb8\\xb8a\\xb8\\x9f\\xf8\\x0e\\xea\\ng\\xceVZ\\xbe\\x91o\\'\\x99p\\xe6x\\xe1\\xe5@\\xe8\\xe7\\xde\\xb7\\xf4G\\xd65\\xe9M\\xfd\\xdel4\\xdc\\xfe\\xe56\\xe0\\xb8\\xf5\\x19\\xed\\xefG\\x87\\xbc\\x11\\xa0h\\xae.\\xf5\\x89Z\\xfaq\\x82\\xb0\\x906\\x16\\xff\\x00w\\xfa\\x1a\\xdf\\xd5o\\xe3\\xb8\\x8b\\xf7\\xfb`\\xb4Q\\xf2 \\xe0\\x81\\xe9\\xc7A\\xedH\\x82\\xa5\\xf5\\xd5\\xba!\\x8a)\\x0b\\xc1\\x18\\xe5\\xcf\\xadkxV\\xe6;=oK\\x918_5G\\xbe\\t\\xc1\\xfeu\\xc43I\\xaa_-\\x95\\x90+k\\xbb\\xe68\\xc7\\x15\\xd1\\xc6\\xcdk=\\xbc\\x83\\xe5\\x11H\\xad\\xcf\\\\\\x03B\\x19\\xf4\\r\\x14\\x8a\\xc1\\x942\\x9c\\x822\\r-2\\x82\\x8a(\\xa0\\x02\\x8a(\\xa0\\x02\\x8a(\\xa0\\x02\\x8a(\\xa0\\x02\\x8a(\\xa0\\x02\\x8a(\\xa0\\x02\\x8a(\\xa0\\nz\\xe4\\xc2\\xdfF\\xbd\\x9c\\x9c\\x08\\xed\\xdd\\xb3\\x9ctS^\\x0f\\xa4XK8\\xf3c /\\xfbG\\x0ck\\xda<{?\\xd9\\xfc\\x1f\\xa9\\xc9\\xc7\\xfa\\x9d\\x9c\\xff\\x00\\xb4B\\xff\\x00Z\\xf0\\xbb\\xbb\\xbb\\xdb%A\\x00m\\x9bs\\x91A,\\xe8?\\xb3\\xe4D\\n\\xad\\xb8c\\x1dz\\x1a\\x9b\\xc9\\x8e\\x1bs\\xdaC\\xd3\\xd6\\xab\\xe9:\\x8a\\xce\\xbf9!\\xcf^j\\xc5\\xccA\\x88\\xd8\\xe5\\xc9\\xea\\t\\xcd\\x00R\\xbc\\xdb-\\x8c\\x8b(32\\r\\xca\\x00\\xe4\\x91\\xe9^\\xcf\\xe1\\xabCa\\xe1\\xed>\\xcd\\x97kEn\\x8a\\xe3\\xfd\\xad\\xa3?\\xaek\\xc7\\xad\\xf4\\xc9[]\\xd3-\\xf2|\\x8b\\x9b\\x98\\xd1\\xf6\\xf3\\x81\\xb8g\\xf9W\\xb8\\xd04\\x15\\xe0\\xde;\\x90\\xa7\\xc4\\x1dW\\'\\xe5i\\x140\\xf4\\x1b\\x05{\\xcd|\\xfd\\xf1\\x0eD_\\x1f\\xea\\xfd\\x01\\xf3Td\\xf1\\xfc\\x03\\xf3\\xa0\\x18(\\xb5\\t\\x95<\\x0eFq\\xcdCs:pZ6 \\x0f^\\x95\\x05\\xb1r\\xea\\x93\\xe4)\\xe7>\\x9e\\x94],a]\\x9eb\\x889,\\xcc\\x00\\xc7\\xaeM\\x04\\x98F\\xf8\\\\\\xeb\\xf7\\x1a\\\\\\x9a\\xa4:yH\\xe3xc`\\x85\\xa5\\xdd\\xbb\\'\\r\\xd4\\r\\xbd\\xabba\\xa4\\x8be\\xb8\\x96\\xf2\\xde8\\n\\x96YL\\x83k\\x802H\\xf5\\xc0\\x07\\xa7\\xa5s\\x12_\\xe9\\xef\\x16\\xa7\\xa8[_\\x98\\xa1+\\x17\\x98<\\xbc\\xb4;\\t\\'z\\x1e\\xa3\\xa8?CS%\\xb7\\x87\\xe3\\x99\\xee\\'\\xbbf\\x9eI<\\x95\\xdb\\x18A\\xbaBs\\x1eW\\x83\\xb9\\x9d\\x8ez\\x8d\\xddh\\x02\\xed\\xcd\\xe6\\x87cf%\\x1a\\xa8dm\\xaa\\xbbcm\\xccI\\x00`c9\\xce\\x06=\\xeap\\x1c\\xcb#\\xa6\\xa1\\tHNf&N\\x10\\x11\\x91\\x93\\xd0g\"\\xb9\\xeb\\xe1\\xe1\\xb9V\\xe1\\x7f\\xb4\\xda\\xe2\\xea\\x10`\\xb8ss\\xe6\\xc9\\x10,#<d\\x04!\\x95y\\xc0\\xdacS\\xc6*\\xec\\xfae\\xc40\\xc3a\\xa5\\xcb0[\\xd1$\\xcb2\\x03$v\\xc0\\xa8U\\xda\\xeb\\x85\\xce]\\xd8\\x0c\\x8c\\x13\\x91\\xd0\\n\\x00\\xea4x\\xac\\xb5\\x0b\\x18\\xaf\\xe0\\xb9\\xf3m\\xe6]\\xd1:\\x9e\\x1c\\x1e\\xe0\\xd5\\xd5\\xb1\\xb7R0\\x84\\x9e\\xc0\\x9c\\xe2\\xb1t\\xb9\\xd3O\\xb4\\x8bL\\xb4h\\xae\\xa6\\x8ep\\x93a\\x82\\x90]\\xf3!\\n\\xbf\\xdd\\xdcO@>Z\\xe9\\x06\\xe0\\x80\\x03\\xbb\\xd7\\x03\\x14\\x00\\xd5\\x86\\x04\\xfb\\xc8\\xaa\\x0f\\x1d\\x05H\"\\x01F\\xde\\xdd\\xc8\\xaa\\xf21q\\xdc\\x90q\\xc5I\\x137\\xd3\\'\\x92(\\x1a<\\xfb\\xe3U\\xfc\\x9a\\x13[j\\xe2\\xe2[x\\xe6\\xd2\\xb5\\x0bt\\x9e<\\x12\\x971\\xc6\\x97V\\xe7\\xfe\\xfa\\xb7o\\xcc\\xd7!\\xfb+\\xd94~\\x14\\xbd\\xd5\\xe4G\\x1a\\x96\\xad\\xab\\xaa$\\xaa\\x08V\\x89\\x17.\\x0fc\\xd6C\\x83\\xed\\x8ek\\xa1\\xfd\\xacE\\xa9\\xf88\\xa6\\xe3w\\x9b\\xfd\\xa9\\x07\\xd9q\\xdeL>s\\xed\\xb3}7\\xe0\\xa5\\x94\\xfa\\'\\xc2\\xaf\\n\\x19\\x08k\\xfb\\xab\\x89/\\xad\\xd3\\x1f(\\x82@C\\x16=\\x86\\xc6_}\\xc5G\\xad\\x17\\x0b\\x9e\\xbd\\x1d\\xb0\\x8e\\xf5gL\\x07\\xc5L\\xb3\\xbf\\xf6\\xb5\\x82F\\xdb\\xc3\\\\G\\xbb\\x1d~\\xf0\\xacI\\x1eEm\\xcb+\\x12\\x7f\\x87\\'\\x15cL\\x9aF\\xd6\\xb4\\xf5\\xca\\xe7\\xed1\\xe7\\xdb\\xe6\\x14\\xb6\\x03\\xdd\\xcfJ\\xa5\\xafF&\\xd1/\\xa3#;\\xad\\xdcc\\xfe\\x02j\\xed#\\xa8e*\\xc3 \\x8c\\x11L\\xa3\\xe6W\\xd5\\x05\\xb2\\xc9#\\x02\\xf3\\x13\\x85\\xe3;j8t\\xab\\xedVE\\xb8\\xd4n\\x0c0\\x93\\x90\\x9f\\xc5\\x83\\xcd7Q\\x02-fh\\nbh\\xa49\\x1e\\x84\\x1cU\\xcb[\\xcb\\x88\\xc8Yv\\x9f\\x97\\xa6zR \\xde\\xb3\\x82\\x0bKo&\\xde%D\\xec{\\x9f\\xaf\\xad2\\xee\\x15\\x96\"\\x02\\x90zu\\xebT\\x96\\xf6T\\xe1\\x88\\x00\\xf5\\xe3\\xad[\\x17q\\xbc\\x07\\n\\x14\\x91\\xcd\\x16\\x03\\xda\\xfc/0\\x9f\\xc3\\x9at\\xa0\\xe76\\xd1\\x82s\\x9eB\\x80\\x7fZ\\xd1\\xaes\\xe1\\xb4\\xff\\x00h\\xf0m\\x91,X\\xa6\\xf4$\\xfb1\\xae\\x8e\\x99aE\\x14P\\x01E\\x14P\\x01E\\x14P\\x01E\\x14P\\x01E\\x14P\\x01E\\x14P\\x01E\\x14w\\xa0\\x0eW\\xe2\\xac\\xbe_\\x83n#\\xce<\\xe9#N\\x99\\xfe \\x7f\\xa5y\\x1c\\xd0\\x87\\x87\\xcb\\xdaX\\x01\\xc9\\xc7Z\\xf4\\xff\\x00\\x8csy~\\x1e\\xb6A\\x92^\\xe8q\\xeb\\x855\\xe71\\xa6\\xe8\\xc3`\\x0e\\xf8=h%\\x9c\\xe5\\xb4\\xb3X\\xdd\\x18^C\\xb8\\xb6T\\xfa\\x8fJ\\xeal\\xb5\\x98\\x164,\\x84\\xccG>\\xd5\\x89\\xabY-\\xc4e1\\xe5\\xc8\\xb9h\\xd9G~\\xdc\\xd6\\x04:\\x96\\xc2\\xd0\\xdd\\xab\\xa4\\xc9\\xc3+\\x0c~\"\\x81\\\\\\xf5_\\x03_\\xc5\\xa8\\xf8\\xc2\\xce\\x00\\xdc\\xa0i\\x0f\\xe0\\t\\xaf\\\\\\xaf\\x06\\xf8\\t\\x99\\xbcyp\\xeb&\\xf8\\x12\\xcd\\xd9\\x0f\\xbe\\xe5\\x04~\\xb5\\xef4\\x14\\x82\\xbcS\\xc7z%\\xad\\xc7\\x8du\\x1b\\xa7\\t\\xe7\\x17R\\x00c\\xcf\\xca:\\x8a\\xf6\\xba\\xf1\\x0f\\x88RK\\x17\\x8d\\xb5\\x02\\x8c0]z\\x9e\\x9f(\\xa0\\x19\\x91<\\x0cU\\xe3`\\xea\\xf1\\x8c\\x86\\x1d\\x1b\\xda\\xb2\\xa7\\x89\\xc8x\\xdd\\x04\\xd10 \\xa3\\x0c\\x8cz\\x11\\xde\\xb4^I\\xdc\\x86$(\\xfa\\xf55(\\xd5|\\x84\\xc3\\xda\\xa4\\x9b}\\xba\\xd0I\\xc3Yi\\xedm\\xad?\\xd9\\xec\\xe6v%-\\x11\\x1afpK\\xfc\\xfb0\\xddp0y\\xc9\\xc3\\x1cu4\\x9aw\\xc3\\xd8\\x0c\\x89o6\\xa3\\xf6i\\xec\\xe1\\x8c\\xc3(\\\\-\\xb9Nwr6\\xe3p\\xc9S\\xc5ok\\x1e$\\xd2\\x91\\xde\\xd3\\xec\\x17?i\\x9aEvKT-*;\\x00\\xaa\\xe0\\xf0\\x01\\x02<\\x83\\x9e0\\xd5>\\xa3\\xa9\\xe9\\xfa}\\x90\\xd2\\xde\\x0b\\x99`\\xbc\\x0e\\x8eAy\\x08R\\xa4\\x9f\\x98\\x0e8\\x1d\\xcd\\x00s\\xd6\\x1e\\x1b\\xd2\\xacu\\xeb\\xc0g\\x93r i\\xee\\x08H\\xd6y\\x03#\\xb1 (\\xc6\\x1bgN\\xb9\\xf6\\xae\\x8e\\xdc\\xd9i\\xbab[\\xae\\xa1j\\xd1D@\\xff\\x00X\\xa4\\xae\\xe6\\xc2\\x0cg\\xb9`\\x07\\x1e\\x95\\xcc\\xdax\\x8fL\\xd4om\\xa0:\"\\xc9<\\xd0\\xad\\xe5\\xc3\\x80G\\x96\\\\\\t\\x10\\xe1\\xb9l\\xb0\\x1c\\x83\\xf7\\xb0}H\\xa5\\'\\x88\\xf4Vq?\\xf6X\\xb4\\x82(\\xa0u\\xb6\\x10.\\x082\\xb2C\\x97Rp7\\x05%OM\\xa3\\xd3\\x04\\x03\\xb1ML5\\xecV\\x1a|b\\xee\\xf4\\xbe\\xc9\\x91\\x0e\\xc2\\x91\\x82\\xb9\\x90\\x929\\x03p\\xe9\\xd4\\xe4u\\x15\\xd1\\xc0\\x8f\\xb0\\x06\\xe3\\x1c\\x11\\xdcW\\x17\\xe0\\xadv\\xcbT\\xbc\\x93P\\x8bL\\x86\"\\x80 \\x99X\\x17?1\\xdc\\xa7\\x81\\x80\\x19x=\\x0f\\xe6+\\xb5\\x81\\xdc\\x83&\\xec\\xa99\\xdax\\xa41\\xc20\\x1b\\xe5\\x03=\\xc8\\x19\\xa9Lh\\xc0n\\xc8>\\xddM$LCc\\x1b\\x9b\\xa8&\\xa5VV8\\xe8\\xbd\\xf9\\xa0g\\x8b\\xfe\\xd8q\\xdc\\xcb\\xe0\\x9f\\x0f\\x08\\x94\\x8b4\\xd4X\\xcc@\\xe1d\\xf2\\x9bf\\x7f\\r\\xf5\\xd3\\xfc>\\xb6\\xb5\\xd6\\xbc)\\xe1\\xadN\\x15\\x94\\xdai\\xbaE\\xad\\xacP\\x0f\\xb8%\\xf2\\xd5\\xdd\\xbf\\xda\\xc7\\xc8\\x07\\xa1S\\x9e@\\xaa?\\xb5\\\\&_\\x83\\xe6h\\xa5\\n\\x96\\xda\\x94\\x12\\xc8\\xbf\\xde\\x04:c\\xf3p\\x7f\\n?g\\xcf\\x14[\\xea\\x1f\\x08\\xac\"\\x10,/\\xa7\\xc9%\\xab\\x04\\xe09\\x07v\\xff\\x00\\xa9\\x0c3C\\x11\\xda\\x91<\\x83j\\x00\\x01\\xe8\\xcc?\\xadM\\xa2\\xf9cY\\xd3\\x008o\\xb6F\\x0fn\\x8c*\\x8c\\xd7\\xe6p,\\x99\\xde\\x15\\xc6Q\\x92\\xa9\\xd9iZ\\x8c~*\\xd2n\\xed.\\xd6X>\\xdb\\x11\\x9a)\\x18\\xaf\\x1b\\xc7 \\xfa\\xfbS\\x12>\\x99\\xa2\\x8a(,\\xf0O\\x13\\xe9V\\xb6\\xde0\\xd4\\xd5!\\r4\\x97\\x0e\\xcc\\x06Il\\x9c\\x83\\xcf\\xa6j\\x95\\xd6\\x8a\\x91G\\xe6A&\\xf9\\x81\\xdc\\xc3\\xa0\\xfc=\\xab\\xaa\\xf8\\x8e\\r\\xa7\\x8dn.\\x17h2F\\x8d\\x8e\\x87\\x1b@\\xfe\\x95\\xcbZ\\x99\\xef\\x99\\xa6\\xdec\\x80\\x1c\\x17\\'\\x19\\xfaR&\\xc6q\\x95\\xd5\\xccN\\x8c\\t\\xe01\\x1d\\xea\\xc3\\xcc|\\xa1\\x1ca\\xbd\\x18\\xd6\\x94\\x93Z\\x96\\xf2\\x84a\\xbb+\\x903Tn\\xe4\\x85nV8\\xd0t\\xe4\\xd3\\x11\\xea\\xdf\\x06\\xa4/\\xe1IP\\x8f\\xf5wn?\\xf1\\xd5?\\xd6\\xbbj\\xf3\\xbf\\x822HluH\\x9c}\\xd9\\x91\\x81\\xcf\\xa8?\\xe1^\\x89\\xde\\x82\\x90QE\\x14\\x0c(\\xa2\\x8a\\x00(\\xa2\\x8a\\x00(\\xa2\\x8a\\x00(\\xa2\\x8a\\x00(\\xa2\\x8a\\x00(\\xa2\\x8a\\x00\\xf3\\xef\\x8ds$z~\\x98\\xae\\t\\x06v \\x83\\x8eB\\xff\\x00\\xf5\\xeb\\xcf\\xeco\\x03\\x10\\x8e\\x14\\x13\\xd7\\xfc\\x05w_\\x1a[sip\\x80I\\xfd\\xe3\\x11\\x8e\\xdf(\\xaf6e(\\xca\\x04}\\xf3\\x92h%\\x9bS\\x84ueq\\x85\\xea\\x0f\\xbf\\xbdsZ\\xe6\\x91\\xf6\\x99D\\xe1It\\xcf\\xca1\\x86\\x15\\xd0\\xd9N\\x93\\xa7\\x96\\xc4o\\x1crx\\xa9\\x1eq`\\xea\\xc6 \\xc5\\x87\\xe1@\\x87\\xfe\\xcf\\x1e\\x1a\\xbe\\xd1\\xfc]\\xa8^\\xde\\xdd\\xef\\xf3\\xec\\x99R\\x11\\xd1\\x07\\x98\\x87?S^\\xe7^i\\xf0u\\x8d\\xce\\xb1\\xab\\xdd7\\xcd\\xb28\\xd1O\\xd4\\xb1?\\xca\\xbd.\\x82\\x90W\\x8b\\xf8\\xfe\\xea\\xd2\\x1f\\x1b\\xea\\x11JC>P\\x80{|\\x8b^\\xd1_2\\xfcO\\xba\\x92?\\x89:\\xd1efU\\x9dFO\\x18\\xf9\\x17\\xa1\\xa0\\x19\\xab<\\xc9\\xe5\\x92\\xa5$N\\xd8<\\x8a\\xc2\\xbef\\x8c\\x19\\x03\\xedV\\xc8\\xcf\\xa1\\xc1\\xc7\\xeb\\xc5TM@\\x18U\\x95\\xc8\\xe7\\xa1n\\xb4\\xfb\\x8d^)\\xd5\\xd6$L\\xdb\\xa8m\\xac\\xb9\\xdc\\xe0n\\xc9\\xf6\\x03\\x1f\\x8b{PH\\xe3+,\\xcc\\x92E\\xb5\\xd5r\\x18\\x0c\\x96^\\xe0c\\xdf\\xb7\\xbdZ:m\\xd4\\xd6\\xe4\\xcdd\\x00Q\\xbdc\\x93\\x19$t\\xc7\\xbdbK\\xab\\xc1`m\\xa42\\xc7w\\xe4/\\x950R\\x91\\x95f\\x00\\x94b0H\\'\\x80\\xfd\\x8e\\xec\\xe75kT\\xf1\\x94\\xdal\\xe2+\\xdd:IT\\xa6\\xf4\\x988RG\\xa3\\x0c\\xe3>\\xeaH>\\x82\\x80.\\xcb\\xa3\\\\m\\xf3\\xee\\xda\\x15v\\xf4\\x1bH>\\x999?\\x8f\\x1fJ\"\\xb7\\xb6\\xb4R\\xd1\\xe9\\xeb<\\xb9\\xfe)p\\x0ez\\xf4\\x1c\\xd7\\x1f\\xad\\xf8\\xbb\\xc4W1\\xac\\xb6)\\xa5i\\xb0?\\xddk\\xd9\\x1aF#\\xd7\\x03\\x92}\\x14)\\xcf\\xa8\\xa8\\x7f\\xb4\\xf5\\\\\\x83\\x7f\\xa9\\xcd#u\\xf2\\xde\\xd8\\xda\\x96_TUu-\\x8fBI\\xf6\\x14\\x01\\xdb\\x1dQ\\xedH\\x94\\xe9\\xf6\\xc8\\xcd\\xfe\\xb2\\x1f0\\x87Q\\xf8\\xaf?\\xca\\xac\\xb7\\x88\\xae\\x0c\\x9f\\xba\\xd2Z\\xe0(\\xce\\xc8\\xeec\\x0c~\\x80\\x91^S\\xabx\\x92\\xfa\\xdao6\\xc7]\\x96\\x0bh\\xf8\\x92\\xd5\\xe2\\x179\\xe39a)8\\xc6zo\\\\\\x8fJ\\xc8\\x93V\\xd4/X,wz\\x86\\xb5\\x16\\xef:\\x12\\xf6\\x9fe\\xd3\\xe0c\\x9c\\xe5\\xe3/4\\x98\\xeb\\xe5\\x87\\t\\xeb\\xc7\\x14\\x01\\xed\\xaf\\xe3}\\x14\\x15\\x06sk!P\\xcc.\\x95\\xa1\\xeb\\xd8\\x96\\x00g\\xaeGj\\xcb\\xd4\\xbe&\\xf8R\\t|\\xa6\\xf1F\\x95\\x0b\\x9e\\x83\\xcf_\\xeb^9!\\xb6\\xd5\"\\x9dm\\xae\\x92\\xff\\x00P\\xbao.\\xd29\\xaeV&\\x92B9\\x97bq\\x0cJ2B\\xc7\\x80\\x00\\xcb\\x16\\'\\x8e\\x1b\\xc4\\xde\\x17\\xbc\\xd5uk;-\\x06+\\rOU\\x929$\\x96\\xdbO2\\x06\\x80&7\\xf9\\x9ek6NO\\xde\\x0es@\\x1e\\x99\\xfbB|E\\xd25\\x0f\\x03\\r\\x03M\\xd4\\xed\\xb5+\\xab\\xe9\\xd1\\xa6\\xfb<\\xc2E\\x82$!\\xf2H\\xeeHP?\\x1a\\xe8?g].]3\\xe1\\x8d\\xbd\\xc4\\xd2/\\xfa}\\xcc\\x97J\\xb8\\xe8\\x0e\\x14\\x7f\\xe8\\x19\\xfck\\xc15_\\x02j\\x16\\x176\\xd6\\xd6\\xb7\\xfan\\xa34\\xec\\xb1H\\x90]&a\\x9bhgV\\xe7\\x1bP\\x9c\\x16\\xce2\\rz\\x1f\\xc3\\x0f\\x16\\xf8\\x87\\xc2\\xda~\\x85\\xa0\\xf8\\x8fL\\x92m\\x13X\\x93f\\x95}\\x1bnh\\x8b\\x1c\\x04 pW\\'>\\xa0\\x1c\\xf2(\\x0b\\x1e\\xf8e\\xb2\\x90\\xe0\\xb8\\xdd\\xdf$\\xf1Vt[\\x9f3^\\xd3\\x10J\\x08\\xfb\\\\c\\xd7\\xf8\\x85s\\xf0\\xc4\\xdb\\xbe\\xeeH\\xeb\\xd6\\xb4\\xbc>\\xbb|C\\xa5\\xf5P.\\xe2\\xce;\\xfc\\xe3\\x8a\\x01\\x1fOQE\\x14\\x16yG\\xc7e\\x86\\x1b\\xed*y#b.\\x15\\xa2v\\x1d\\n\\xa9\\x07\\x04\\xfe5\\xc0\\\\jL\\xef\\xb3\\xcc\\xc2\\x81\\x85P0\\x00\\xafK\\xf8\\xf7:ZizU\\xcb\\x9f\\x97\\xed\\x0f\\x1e00r\\xb9\\xff\\x00\\xd9k\\xc9\\xda8\\xdd|\\xf8~\\xebt\\x1e\\x87\\xd2\\x91,\\xbbf\\xecw\\xcerU~QN\\x85L\\xb2\\x11\\x92rs\\x8cSm\\x1c[\\xc6\\x0c\\xa8J\\x11\\x93\\xdc\\x1f\\xc2\\xad,\\xd0c\\xf7j\\x8b\\x9e\\xfd\\xf1LG\\xa0|\\x13A\\r\\xc6\\xa9\\x1b\\x0f\\x9d\\x966\\xc8<`\\x16\\x1d+\\xd3+\\xcb\\xfe\\rI\\x9dgP\\x8f\\xfe\\x9d\\xd4\\x83\\x9c\\xff\\x00\\x17\\xff\\x00^\\xbdB\\x82\\x90QE\\x14\\x0c(\\xa2\\x8a\\x00(\\xa2\\x8a\\x00(\\xa2\\x8a\\x00(\\xa2\\x8a\\x00(\\xa2\\x8a\\x00(\\xa2\\x8a\\x00\\xf3/\\x8c\\xf3*j\\x1aZ\\x1d\\xa4\\x98\\xdf\\x83\\xf5\\x15\\xc0K/\\xda\\x1f\\xcb\\x8d\\xb6`s\\xb7\\xbdv\\x1f\\x1c>\\x7f\\x10i\\xd1\\x91\\xc0\\xb6b\\x7f\\xef\\xaa\\xe4\\xacR8\\xa3;\\xd8\\x00;\\x11\\x9c\\xd0K\\x0bX\\xde9\\xc1\\x18\\xe4\\xe7\\x9fJ\\xbd|#\\x9e\\xd2FV>h\\x03\\x03\\xd6\\xa9\\xca\\xe3\\xfdw\\x9b\\xb4\\x8cg\\xdczT\\xc9\\xa9\\xe9\\xc26b\\xf8 `\\xe0\\x7fJ\\x04w_\\x03\\xa2)g\\xaa\\xbb\\x0c\\x13,k\\xf9\\x03\\xfe5\\xe8\\xf5\\xe7\\xbf\\x05\\x1e),ui\"\\xe8nW<\\xff\\x00\\xb1^\\x85AH+\\xe7\\x1f\\x88v\\x90\\\\|D\\xd6\\x03H\\xe5\\xbc\\xf0vq\\x8f\\xba\\xb5\\xf4u|\\xe9\\xe3}FO\\xf8XZ\\xd4b1\\x94\\xb9*\\x1bn3\\xc0\\x18\\xf7\\xa0\\x19\\x8f/\\x86c\\x95F.<\\xa3\\xd7\\x04q\\\\\\xbf\\x88tk\\xcb\\x1dA.g\\x92H\\xed]LsJ\\x87\\xe58 \\xa8\\'\\xf8s\\x823\\xc7LzWw\\r\\xd8\\x90\\x01 +\\x8f\\xca\\xa6gf\\x1d\\x8a\\x81\\x8e@\\xe4PI\\xe5\\x17:\\x8b%\\xa2ZJm\\xa1-\\x93n%P\\xcb0p\\x0b\\xc4\\xcb\\xc1 \\xb6N8?t\\xf6\\xac\\xb8\\xe5\\xf16\\x93\\x88\\xf4\\x87\\x86\\xda\\xd0\\x8c\\xbc7\\x8a\\'\\x81s\\xd9\\x03\\x05\\x7f\\xc3v=\\x8d{T\\xd6p\\\\\\xabGqi\\x1c\\xb1\\xbf\\x04:\\x02\\x18}1U\\xad\\xfc7\\xa5$\\x84&\\x97\\x0e\\xd0>^7\\x01\\xec\\x01\\xc8\\x14\\x01\\xe3\\xb6\\x93k\\xf2\\xdf}\\xaa\\xdbS6\\xb7%p\\xdfd\\xb1\\x80u\\xc7\\xdd]\\x84\\x81\\x9c\\x93\\x93\\xe8;f\\xad]j\\xbe4X\\x9a\\xd7Q\\xd0\\xff\\x00\\xb6bn\\x04\\xf6p\\x00\\xc1Gy#;\\xb1\\xcfu\\xfc\\x85{?\\xf6`U\\xc2\\xc6\\x8a\\xbe\\xc3\\x14\\xc7\\xd0-\\xe4\\x04\\xb8x\\xf7\\x0eJH\\xca\\x1b\\xea\\x01\\x19\\xfch\\x0b\\x1f=_\\xdf\\xdf[\\xd9\\r2\\xce\\x1b\\xa9c\\x9d\\xbe{8\\xe1\\x99\\x03\\xe4\\xfc\\xcd!\\x90\\x82\\xc3\\'\\x9e\\x1b=0j\\xb8\\xd0\\xfcX\\xc6qe\\xa5I\\x1cWJM\\xc5\\xbd\\x9d\\xc1\\x86\\x19\\xb3\\xde@C\\x1c\\xe3\\x8f\\x97i#\\x8a\\xfa:\\xdb\\xc3vv\\xeaR2\\xd1#}\\xe5\\x89\\xbc\\xb0\\xdfP\\xb8\\xcf\\xe3\\x9a\\x9d\\xbc=\\xa41\\x1em\\xa42\\x91\\xdeU\\xdd\\xfc\\xe8\\x0b\\x1f4\\xea\\x1a\\x0f\\x8e5\\xe8M\\xb4\\xb34v\\x80\\x88\\xaf\\x12\\t\\xc3<p\\xf5d\\xc6\\xcd\\xeb\\x90\\x08\\xc18\\xf6\\xad\\r\\x1b\\xc3\\x8b,SG\\xa3\\xe9\\xb6\\xf2\\xb7\\x9a\\xf1\\\\?\\x92R\\xde$W%#}\\x81Y\\xf2\\xbbIL\\xfc\\xdd\\xc8\\x06\\xbe\\x88\\xbe\\xd3tk\\xa2\\xa6\\xee\\xde\\xd9\\xfc\\xbe\\x15\\x8f\\xde_`G8\\xf6\\xa7\\xc5&\\x97m\\n[[\\xacP\\xc0\\x83\\n\\x91\\xa8U\\x1e\\xbc{\\xd0\\x07\\x8fA\\xf0\\xfbT\\x9bL[Xo\\xaf\\xb4\\xb4l\\x1d\\xb0Ao\\x0c \\x9ex\\x85c\\xc7\\xe6s\\xeaMl\\xf8O\\xe1\\x8f\\xd85\\x94\\xd6<C\\xe2\\x1b\\xef\\x10\\xdd\\xdb\\xae\\xdb\\x15\\xb9\\xff\\x00Wg\\x91\\xf32(\\xf9C\\x1e9\\x03\\x8c~^\\x89-\\xe5\\xa8f\\x8dI\\'\\xd0\\x0f\\xd2\\xab\\xbd\\xf4j\\xa3b`\\xf494\\x00\\xdb{+xNv\\x17==\\xc5\\\\\\xd3#\\x80\\xea\\x96\\x0eP3\\x0b\\xa8\\xceH\\xff\\x00hVL\\xba\\xa9\\x85@\\xf2\\x89__J~\\x95\\xa8\\x99\\xf5m8\\x00\\x11~\\xd3\\x1f#\\xfd\\xe1\\xc5\\x00\\x8f\\xa4(\\xa2\\x8a\\x0b8?\\x8e0\\xc57\\x84\\xed\\x92TV\\x06\\xf99#;N\\xc7\\xe6\\xbcV\\x0bK\\x84\\xb81\\x05b\\xaax\\x1d\\xab\\xda~;\\x9d\\xbe\\x07W\\x1fyo##\\x9e\\xf8a^W\\xa5\\\\nD\\x8e\\xe6<\\xb0\\x03\\x9a\\tc\\x92\\xd5Uv;\\x858\\xe9\\x9e\\x074M\\x03\\xa9\\xfd\\xd9g\\x1d>_J\\xbbu\\x1aK\\x85\\x8b\\xa9\\xef\\x9a\\xcb\\x8a\\xfa{;\\x92\\xb7\\x11\\xb0\\x1d7m\\xed@\\x8e\\xe7\\xe0\\x8c\\xae<G\\x7f\\x0c\\xe1\\x95\\xcd\\xb6W#\\xa8\\x0c;\\xd7\\xae\\xd7\\x96\\xfc&\\xb8\\x86_\\x10\\xcac\\x91Hkb@\\xe3?yk\\xd4\\xa8)\\x05\\x14Q@\\xc2\\x8a(\\xa0\\x02\\x8a(\\xa0\\x02\\x8a(\\xa0\\x02\\x8a(\\xa0\\x02\\x8a(\\xa0\\x02\\x8a(\\xa0\\x0f\\x1d\\xf8\\xd50_\\x16Z\\x86#\\x0bh\\x0f>\\xeck\\xce\\xf5\\xfdE~\\xc6\\x12\\xd5\\xfd\\xdd\\xbas\\xf4\\xafC\\xf8\\xd5h.<U\\x06\\t\\xdcmTt\\xe9\\xf35q\\xb6^\\x11Q/\\x9dq$\\xb3\\x13\\xc8\\x0c~Q\\xe9\\xc7z\\tg\\'\\x1e\\xa4\\xcf\\x95\\xf3\\x9b\\x1d\\x084\\xc9\\xee\\x7f\\xd1\\xd8\\xe4\\r\\xbdq]\\xc4\\xde\\x0e\\xd2g\\xe6de>\\xb1`~\\x1d+\\x1bX\\xf0\\xa5\\x9d\\xa3\\t-$\\x95\\xa1\\xfb\\xaf\\x136\\xe3\\x9fc\\x8a\\x04z\\x97\\xec\\xd8\\xb37\\x84\\xaf\\xee%\\xdd\\x89/H]\\xc3\\x07\\x84_\\xf1\\xafS\\xaf:\\xf8\\x01\\x96\\xf0}\\xdc\\x9c\\x857\\xee\\x14z\\x00\\xa8+\\xd1h-\\x05|\\xf1\\xf1\\x1d\\xb1\\xe3\\xcd[?(\\x13\\x8e\\x83\\xfd\\x91\\xcd}\\x0f_6|L\\xf3\\xa5\\xf8\\x8f\\xacB\\x8aY<\\xd1\\x9e\\xff\\x00\\xc0(\\x131\\xe5\\xba\\x03\\xab\\xb2\\xe0\\xe7=\\x8d\\x10\\xea\\xd3\\xc4\\x87\\x12dg\\xa0\\x02\\xa0\\x93N\\x9c\\xbbl\\x9c0>\\xa7\\x00T\\x12in\\x8c|\\xc9\\xe2U\\xce\\x06\\x18\\x9c\\xd0IzMx\\x86W\\xf3\\x89\\'\\xae\\r+\\xf8\\x8d\\xd4\\x00\\xd7,0q\\x8e\\x95\\x91s\\xe1\\xeb\\xd6\\xcc\\xa2[}\\xbdB\\x87\\xedQ\\xb7\\x86\\xef\\xf2\\xb9c\\x9003(\\x1f\\xa7Z`l\\xc9\\xe2\\xaf$\\x12\\x97\\r\\x8cr\\x1b\\x1f\\x98\\x15\\x03x\\xce\\\\n\\x12\\xbbs\\xdb\\xa7\\xe3Y\\x8d\\xe1[\\xa2\\x9ec\\x8d\\xd2\\x11\\xfd\\xe1\\x8c}(\\x83\\xc1\\xb7\\x92\\x91\\x96T\\x8f\\xa9\\xf9\\xfa\\xd2\\x02\\xf4\\xbe2\\x9d\\xb3\\x8b\\x96\\\\\\x8e@\\x19\\xaaO\\xe2\\x8b\\xa7\\xc6f;\\xbds\\xd4})O\\x83f2\\xba\\xab\\xaa\\x11\\xc8\\x04\\xe4\\x1f\\xca\\xa4\\x8f\\xc1\\xee\\xc82\\xe3=\\t\\xa0\\n\\xe7_\\x9b \\x99\\x9f\\xf1\\xa4]u\\xb7\\xfc\\xcd\\x9c\\xff\\x00{\\xb1\\xab\\xa9\\xe1\\x14\\x04\\xee\\xb9PG\\xa6H5 \\xf0\\xa5\\xb0\\x01M\\xc6XvQ\\x8eh\\x00\\xb4\\xd6\\x91\\x98o8\\x07\\x8c\\xf5\\xfckJ\\x1b\\xe3\\xb7~~S\\xfa\\xd6m\\xd7\\x86\\xed\\xac\\xd5\\x19fvn\\x80\\x1f\\xfe\\xb5>\\xda\\xdaHP.\\xef0\\xe7\\xeeg#\\xfch\\x03V\\xdax\\xe6\\xc6\\xe5,\\xbd\\xf3\\xd0V\\x96\\x9bgl5k\\x03\\x11\\xe3\\xedQ\\x91\\xdf\\xf8\\x85R\\xb7\\xb5\\xbc\\x11\\x06c\\x04\\n2v0$\\xbf\\xe2*\\xc6\\x8fr?\\xb64\\xe5\\xc2\\x82nc\\x18\\x1c\\xff\\x00\\x18\\xa0\\x11\\xf4\\x9d\\x14QAg\\x0b\\xf1\\xd5Q\\xbe\\x1d\\xdd3uI\\xa2e>\\x87x\\x1f\\xd6\\xbcZ\\xcbX\\x81m\\x12)YD\\xb8\\x0b\\x92\\xdd\\xab\\xdc~5Z\\x1b\\xcf\\x86\\xda\\xa4J\\xc5d\\x1e[!\\xff\\x00k\\xccZ\\xf9\\xf3H\\xf0\\x86\\xa7\\xa8\\xc2^\\xf2Sk\\x1ey\\x1dI\\x14\\x12\\xcd\\x84\\xd4V\\x1eQ\\x8f&\\xaf.\\xa9aq\\x11\\x17\\x11\\x82\\xc3\\xf8q\\x91\\xf5\\xacI\\xfc\\x07yo\\x994\\xddH\\xca\\x9f\\xf3\\xcen\\x0f\\xe0G\\x15Pi\\xda\\xc2\\x15\\x8akWE\\x1c\\x17V\\xc8\\xa0V=\\x13\\xe0\\xc3(\\xf1\\xd9XI\\xf2M\\xb4\\x85\\x01\\xed\\xd2\\xbd\\xc6\\xbc\\x0f\\xe0\\xdc3\\'\\xc4+tP\\xca\\xb1\\xdb\\xc8[\\xb6F?\\xc7\\x15\\xef\\x94\\x14\\x82\\x8a(\\xa0aE\\x14P\\x01E\\x14P\\x01E\\x14P\\x01E\\x14P\\x01E\\x14P\\x01E\\x14P\\x07\\x95\\xfcR\\x9e\\x18\\xbcY\\x19|\\x06\\x16\\xab\\xc9\\xf4\\xcbW\\x9ek\\x9e:\\xb2\\xd2\\xd9\\xa2\\x84,\\xce\\xbc1<\\x01[\\x1f\\xb4}\\xf4\\x89\\xe2\\xbbK\\x0bUi\\'\\x96\\xd9K*\\x02H\\\\\\xb7\\xa5y\\xae\\x95\\xe0\\xd7\\xd4\\xa5K\\xbf\\x11^&\\x93\\xa7n\\xe7\\xcfp\\x92O\\xfe\\xca\\x83\\xd3\\xeb\\xda\\x82Y\\xb3\\xa3|T\\xb2\\xbb\\xbe[=N(\\xac\\xdeF\\xdb\\x1bd\\x85?C\\xdc\\xfbW]v\\xd1\\xcd\\xa4\\xc9q\\x04\\x8a\\xca\\xa3q!\\x87J\\xa3\\xe2?\\x0fx\\x7fW\\xf0{\\xe9\\x16\\x96\\xd6b\\xc4.-\\xe5\\x87\\x04\\xc5 \\xfb\\xad\\xb8rNy>\\xbd\\xeb\\x80\\xf0\\xce\\xaf\\xaaxb\\xef\\xfb+SBdE\\xdaVA\\x94\\x95}A\\xee1@\\x1fF\\xfc\\x00\\x97\\xcf\\xf0\\x1bK\\xb7\\x01\\xaf\\xa6\\xc1\\xc7^\\x9c\\xd7\\xa1W#\\xf0\\x80Z\\xff\\x00\\xc2\\x05d\\xd6P$\\x103\\xca\\xca\\x89\\xd0~\\xf1\\xab\\xae\\xa0\\xa0\\xaf\\x9c~$\\xb5\\xc8\\xf8\\x83\\xac\\xa49\\xc3\\xcc\\x06\\x01\\x03?*\\xd7\\xd1\\xd5\\xe0^8\\xd3\\xfc\\xef\\x1fj\\xf3\\x17D\\x06a\\xd8\\x92~Q\\xf9P&r+\\x1d\\xeb\\xe2%Uo\\xa3\\xe7\\x14\\x92i\\xb3\\x1c\\x87\\xdd\\xfe\\xf7\\xbf\\xd2\\xbak{>v\\x85\\\\\\x1e3W \\xb3X\\xb3\\x82\\t\\xf44\\x12qq\\xa5\\xc5\\xb98V\\xc9\\xe3\\x8e\\x82\\xac\\xc2\\xd7M\\xc3\\x06=\\xc1>\\xb5\\xd8\\xa5\\xb4\\x04d\\xa8E\\xeeXT\\xa6\\xd2\\xc8\\x9d\\xbe[\\x16\\xeeW\\x81@X\\xe4\\x14_\\xefP\\xa1@\\xeeqV\\x8d\\xae\\xa6\\xf9d|g\\xb1\\x19\\xc1\\xfck\\xa7\\x16V\\xd8\\xc8\\x8aC\\xe8w\\x1a%\\xb2\\xb3\\x81<\\xc9\\xde8\\x90u2Hp?\\x1c\\xd0;\\x1c\\xdai\\x97\\xcc7<\\xc0;\\x0cc\\xa9\\xfaT\\xa7J\\xbd@\\x0f\\xdar\\x07\\xde\\xe3\\x8f\\xca\\xac^\\xf8\\xaf\\xc2VW\\x1ff\\x96\\xfa6\\x90`n\\x8dI\\x0b\\xf5\"\\xb4lo\\xf4\\x9b\\xf5V\\xb0\\xbf\\x82|\\x8e\\x02H\\x18\\x9f\\xc3\\xad\\x01c!\\xac\\\\(&\\xec\\x03\\xdc\\xe2\\x9al\\xf2\\xc1\\x8d\\xe2\\x9e\\x0f\\x00\\xe2\\xb7e@\\x14\\x03\\x0clO\\x19+\\xd6\\xa8\\xc9kd\\xe5\\x97\\xc9X\\xc8\\xe3\\xa69\\xa5q\\x19Oi\\xa6\\xc4I\\xbb\\x94\\xc9\\xe9\\x83\\xcd1,m<\\xcd\\xf6\\xc5\\xb0zdg\\x8f\\xadj\\xae\\x9f\\x06\\xf0J!\\x1e\\xf5o\\xc8\\x06\\x1d\\xaa\\x11\\x0fc\\xb6\\x8b\\x81\\xcf^\\xb4\\xc7\\xf7g\\x0f\\xb4p\\xc2\\xa9\\xe9a\\x93^\\xd3\\x83\\x02\\t\\xbb\\x8b\\x9cw\\xde+v\\xf2\\xd1\\x04,\\xc7p\\x90}\\xfcg\\x9a\\xabg\\x03.\\xb5\\xa5\\xcc\\x0e\\xf8\\x8d\\xd4c\\x93\\xf7N\\xe1\\xcd0G\\xd1\\xf4QE\\x05\\x9c\\xef\\xc4\\xa7\\x11\\xf8\\x1bT\\x90\\xed\\xf9\"\\r\\xcfN\\x18W\\x84\\\\\\xf8\\xae\\x1b;ebTdds\\x80\\x07\\xd6\\xbd\\xaf\\xe3\\x18\\x99\\xbe\\x1ak1\\xc0\\xaed\\x92%\\x8cl\\x19#s\\xa8\\'\\xf0\\x075\\xf2\\xdc\\x7f\\x0e<O|\\x7f\\xd3\\xb5+{xO\\xdf\\x90\\xc8X\\xe3\\xd9E\\x02f\\xe5\\xbf\\xc5\\xbd0jKe<\\x0b\\xb4\\x9c\\x07\\x0f\\xff\\x00\\xd6\\xae\\xe7O\\xd7t\\xbdJ \\xf0\\xcc\\xad\\xbcg\\x1f\\xe0k/D\\xf0G\\x85l4#\\xa1\\xb5\\x9d\\xbb\\x9b\\x84>d\\xb3c\\xed\\x12\\x93\\x9f\\x98\\x1e\\xbcv\\xc7J\\xf3\\x8b\\xaf\\x0e\\xeb\\xde\\x0f\\xd4\\x9ddv\\x96\\xc87\\xeeg\\\\\\xf2\\xbe\\x87\\xd0\\xd0+\\x9e\\xf3\\xf0\\xf6\\x18c\\xf1\\xdd\\xac\\x91(9\\x8aE\\xdf\\xd7#\\x15\\xeb\\xf5\\xf3\\xc7\\xc0\\xdb\\xf9o\\xbcqd\\x1eu`\\xb1\\xc8\\xc0w?)\\xaf\\xa1\\xe8\\x1a\\n(\\xa2\\x81\\x85\\x14Q@\\x05\\x14Q@\\x05\\x14Q@\\x05\\x14Q@\\x05\\x14Q@\\x05\\x14Q@\\x1ec\\xf1\\x15b\\x8f\\xc5\\x8ds\\xb6(\\xca\\xda)\\x92f\\xc0\\xc2\\x82z\\x9fA_7\\xf8\\xa7\\xc4+\\xe2\\x9f\\x12=\\xe92\\x1b(\\t\\x8e\\xc5Ll7(?x\\x0fr3\\xf9W\\xa8\\xfe\\xd7px\\xb9\\xef4\\xd84\\xfbV_\\x0e\\xdf\\xa7\\x93{w\\x08,\\xe2U$\\xaco\\x8f\\xba\\x8d\\xeb\\xdf\\x04{\\x1f\\x1d\\xd2\\xa1\\x8b0\\xdb\\xbcm\\x10Q\\x86A!\\x04\\x1fLPK:?\\x07\\xea\\x8f\\xa1N\\xd3\\xa8\\xbc1J\\x7f}n`}\\xa7\\xfd\\xacc\\xae;\\xd7uyk\\xa3\\xf8\\xabE\\xf3T\\xac\\x906\\x1e6\\xc6\\xd9!l\\xf3\\xc1\\xe4\\x1fj\\xf3ina\\xb1\\xb9\\x93\\xcd\\x12$\\xaa\\x80\\x88\\xc1l\\xb0\\xf6\\xc7Z\\xa1\\xe1\\xbf\\x11j\\xfaO\\x89\\x96\\xefN\\x86\\xe2\\xe6\\x1b\\xd7\\x0b-\\x87\\x96[\\xcd\\xc8\\xe3\\x00\\x7f\\x17\\\\P\\x07\\xd7\\xdf\\x08lF\\x9b\\xf0\\xebJ\\xb2\\x13y\\xe25\\x93\\xf7\\x98\\xc6\\xec\\xca\\xe7\\xfa\\xd7YX\\xbe\\x07\\xb2\\xb9\\xd3\\xbc+ckx\\xbb\\'\\x08]\\xd3\\xba\\x16b\\xdbO\\xb8\\xce?\\n\\xda\\xa0\\xa0\\xaf\\t\\xf1\\xb1\\x99<w\\xab\\x88\\xc9!\\xa5\\x19\\x18$\\xfd\\xd1^\\xed\\\\O\\x8f<\\x0b\\'\\x88/\\xd2\\xff\\x00N\\xd5\\xbf\\xb2\\xae\\nl\\x99\\xc5\\xb8\\x93\\x7f\\xa1\\xe4\\xf0G\\xf8P&y\\xe4\\x11L\"\\xf3K\\xb2\\x8e\\xc3\\x8c\\x81V\\x14\\xc3\\x8d\\xf2\\\\\\x04\\x03\\x19,\\xc0\\x01\\xf5\\xaaZ\\x87\\xc0/\\x11j,\\xe2\\xff\\x00\\xe2M\\xec\\xd1\\x1f\\xbb\\x1a\\xdb\\xf9j?\\x05`+8\\xfe\\xcc\\xd7.1/\\x8c\\xdd\\x81\\xeb\\x9brs\\xe9\\x9c\\xb5\\x02W-j~*\\xf0\\xbe\\x96\\xe6;\\xddR\\xd4\\xcb\\xd9bo5\\x87\\xd7np~\\xb8\\xae{R\\xf8\\xa1\\xa6\\xdb\\x924\\xed6\\xf2\\xe5\\x87G\\x90\\x88\\xc1\\xfau\\xad\\xb8?fw\\x8d\\x02\\xff\\x00\\xc2Z\\x07\\xae-:\\x8f\\xfb\\xea\\xb4\\xa2\\xfd\\x9d\\x82\\xa7\\x96\\xfe-\\x99\\xa3\\xf4\\xfb \\xff\\x00\\xe2\\xa8\\x1e\\xa7\\x9aj\\x9f\\x10\\xfcQ\\xa8G\\xe5Y,\\x1atd}\\xe8\\xc0g?\\xf0&\\x04~B\\xb9k\\x9f\\xb6^O\\xe6\\xea\\x1a\\x86\\xa1s7\\'u\\xc4\\xf9\\xc7\\xd3#\\x00}+\\xddW\\xf6s\\xb7W%<Yp\\xaaz\\xaf\\xd9A\\x1f\\xfa\\x15N\\x7fg\\x8b\\x07\\x8dVO\\x13\\xdd\\xee_\\xe2[e\\xfe\\xad@\\xac\\xcf\\x9fK\\x01*\\xc6\\xe0\\xc8\\xc7\\xa3\\x19?\\x95:+D\\x12\\x19L$0?)\\x12\\xb2\\x91\\xef\\x90E}\\x02\\x7fg]!\\x91VO\\x12\\xdf6\\xd3\\x90|\\x84\\xe3\\xf5\\xa9\\x7f\\xe1\\x9e\\xb4rA>$\\xd4A\\xef\\x88\\x90f\\x80\\xb3<_I\\xf1w\\x89t\\xa4\\xf2\\xd6\\xe2=F\\xdc\\x9ec\\xbbv\\x90\\x81\\xe8\\x18\\x9c\\x8f\\xd6\\xbb\\r\\x1b\\xe2>\\x93|\\xe2\\x1dV\\xda]<\\xe3\\xef\\xbf\\xefco\\xc4\\x0c\\x8f\\xca\\xbb\\xb8\\xff\\x00g\\xad\\x05\\x1b+\\xe2\\rP\\x0e\\xe3l|\\xfe\\x94I\\xfb;\\xf8j@C\\xeb\\xba\\xcf\\xaf\\x06>?\\xf1\\xda\\x02\\xc6U\\x95\\xd6\\x9d\\xa8B&\\xd2\\xf5\\x18.#n\\xf1\\xca\\xae\\xbfLv\\xfaT\\xd3E<eH*\\xacN9\\x07\\xfcj\\xf4\\x7f\\xb3\\x9f\\x85#\\x93\\xcc]s_W\\xc6\\x0b,\\xb1\\x83\\xf9\\xec\\xad\\xad;\\xe0\\xe5\\x8e\\x9f\\x1a\\xc7\\x07\\x8b\\xfcN\\xe8\\xa7\\x85\\x9eh\\xa5\\xe3\\xd3\\xe6\\x8c\\x91Hv8\\xd9|\\xc6a\\x86M\\xca\\x0er\\x08\\x07\\xf2\\xa5\\xb6\\x9cG\\xa8\\xd9Fb\\\\\\x1b\\x88\\xc1\\x07\\x18\\xfb\\xc3\\x9a\\xf4x\\xbe\\x19h\\xea\\xc1\\xe5\\xd4uI\\x98wi\\x10g\\xf2QV\\xd7\\xe1\\xe6\\x80&\\x8aR\\xd7\\x8c\\xd1\\xba\\xba\\xe6Q\\xd4\\x1c\\x8e\\xd4\\xc2\\xc7]E\\x14P3\\x07\\xe2\\x14\\x86/\\x07\\xdf\\xb8\\x0cp\\xa9\\xc0\\x19?}k\\xc65\\xadV\\xd7G\\xd1\\xa4\\xd5u\\x17\\x11\\xc1\\x18\\xca\\xaey\\x95\\xcf\\xdd_\\xc7\\x8a\\xf7_\\x11\\xd9>\\xa3\\xa1^YD@yb*\\xb9\\xe9\\x9e\\xd5\\xf1o\\xc4\\x1f\\x14\\xcb\\xaf\\xf8\\x98i\\xef\\x1c\\xfam\\x9e\\x95+B\\xb6\\xb3&\\xc7iA*\\xce\\xe3\\xb1\\xec\\x07o\\xc6\\x811/g\\xb9\\xd5\\xb5\\x07\\xd6/d\\x99.\\xe4!\\x83ld\\n\\x07M\\xa7\\xb6\\x06+\\xae\\xf0\\xaf\\x8f\\x9ak\\x94\\xd1|K5\\xbc\\xb6\\xf2b8o\\x1d\\x97!\\x8f\\x1b$\\xecA\\xe9\\x9e\\xb9\\xeb\\\\\\\\&1\\x19\\x91\\xe4de\\xe5\\xf0s\\xf45\\x97\\xadG\\xf6\\xcbgi_r\\x0e\\xe4\\x03\\xc7\\xad\\x04\\xd8\\xfa7\\xe1\\xcf\\x86`\\xd3>%Y\\xde\\xd9!\\x89<\\xb9VH\\x8fA\\x95<\\x8f\\xf0\\xafp\\xaf\\x99\\x7fe\\x8f\\x19\\xdejZ\\xe4\\x1e\\x1c\\xd5C]5\\xacN,\\xef\\x14\\x16f\\x8dG\\xdc\\x93\\xd3\\x1d\\x98\\xf5\\xef\\xcd}5AH(\\xa2\\x8a\\x06\\x14QE\\x00\\x14QE\\x00\\x14QE\\x00\\x14QE\\x00\\x14QE\\x00\\x14QE\\x00\\x14\\xc7\\x86\\'m\\xcf\\x121\\xf5*\\r>\\x8a\\x00`\\x8a \\xfb\\xc4H\\x1c\\x7f\\x16\\xd1\\x9a}\\x14P\\x01E\\x14P\\x01E\\x14P\\x01E\\x14P\\x01E\\x14P\\x01E\\x14P\\x01E\\x14P\\x01E\\x14P\\x01E\\x14P\\x01E\\x14P\\x01E\\x14P\\x01Y\\xf7\\x9a\\x1e\\x8by9\\x9e\\xefG\\xd3\\xee&=d\\x96\\xd9\\x19\\x8f\\xe2FkB\\x8a\\x00\\xcc\\x7f\\x0e\\xe8\\x0e\\x9b\\x1bC\\xd3\\n\\xe3\\x186\\x89\\xd3\\xd3\\xa5U\\xff\\x00\\x847\\xc2X\\xc7\\xfc#:>=>\\xc7\\x1f\\xf8V\\xed\\x14\\x01KK\\xd24\\xad/\\xcc\\xfe\\xcc\\xd3,\\xac\\xbc\\xd3\\x99>\\xcf\\x02\\xc7\\xbc\\xfa\\x9d\\xa0f\\xae\\xf7\\xa2\\x8a\\x00(\\xa2\\x8a\\x00(\\xa2\\x8a\\x00(\\xa2\\x8a\\x00(\\xa2\\x8a\\x00(\\xa2\\x8a\\x00(\\xa2\\x8a\\x00(\\xa2\\x8a\\x00(\\xa2\\x8a\\x00(\\xa2\\x8a\\x00(\\xa2\\x8a\\x00(\\xa2\\x8a\\x00(\\xa2\\x8a\\x00(\\xa2\\x8a\\x00(\\xa2\\x8a\\x00(\\xa2\\x8a\\x00(\\xa2\\x8a\\x00(\\xa2\\x8a\\x00(\\xa2\\x8a\\x00(\\xa2\\x8a\\x00(\\xa2\\x8a\\x00(\\xa2\\x8a\\x00(\\xa2\\x8a\\x00(\\xa2\\x8a\\x00(\\xa2\\x8a\\x00(\\xa2\\x8a\\x00(\\xa2\\x8a\\x00(\\xa2\\x8a\\x00(\\xa2\\x8a\\x00(\\xa2\\x8a\\x00(\\xa2\\x8a\\x00(\\xa2\\x8a\\x00(\\xa2\\x8a\\x00(\\xa2\\x8a\\x00(\\xa2\\x8a\\x00(\\xa2\\x8a\\x00(\\xa2\\x8a\\x00(\\xa2\\x8a\\x00(\\xa2\\x8a\\x00(\\xa2\\x8a\\x00(\\xa2\\x8a\\x00(\\xa2\\x8a\\x00(\\xa2\\x8a\\x00(\\xa2\\x8a\\x00(\\xa2\\x8a\\x00(\\xa2\\x8a\\x00(\\xa2\\x8a\\x00(\\xa2\\x8a\\x00(\\xa2\\x8a\\x00(\\xa2\\x8a\\x00(\\xa2\\x8a\\x00(\\xa2\\x8a\\x00(\\xa2\\x8a\\x00(\\xa2\\x8a\\x00(\\xa2\\x8a\\x00(\\xa2\\x8a\\x00(\\xa2\\x8a\\x00(\\xa2\\x8a\\x00(\\xa2\\x8a\\x00(\\xa2\\x8a\\x00(\\xa2\\x8a\\x00(\\xa2\\x8a\\x00(\\xa2\\x8a\\x00(\\xa2\\x8a\\x00(\\xa2\\x8a\\x00(\\xa2\\x8a\\x00(\\xa2\\x8a\\x00(\\xa2\\x8a\\x00(\\xa2\\x8a\\x00(\\xa2\\x8a\\x00(\\xa2\\x8a\\x00\\xff\\xd9',\n",
              " b'salesRank': {b'Clothing': 996534},\n",
              " b'categories': [[b'Clothing, Shoes & Jewelry',\n",
              "   b'Men',\n",
              "   b'Clothing',\n",
              "   b'Shirts',\n",
              "   b'T-Shirts']]}"
            ]
          },
          "metadata": {},
          "execution_count": 11
        }
      ]
    },
    {
      "cell_type": "code",
      "execution_count": null,
      "metadata": {
        "colab": {
          "base_uri": "https://localhost:8080/",
          "height": 310
        },
        "id": "XH4PGzdZAWMj",
        "outputId": "a68bcd60-8dda-4501-ee6c-011d765f2aba"
      },
      "outputs": [
        {
          "output_type": "stream",
          "name": "stderr",
          "text": [
            "/usr/local/lib/python3.7/dist-packages/ipykernel_launcher.py:6: DeprecationWarning: `toimage` is deprecated!\n",
            "`toimage` is deprecated in SciPy 1.0.0, and will be removed in 1.2.0.\n",
            "Use Pillow's ``Image.fromarray`` directly instead.\n",
            "  \n"
          ]
        },
        {
          "output_type": "execute_result",
          "data": {
            "text/plain": [
              "<PIL.Image.Image image mode=RGB size=224x224 at 0x7F5C321B0150>"
            ],
            "image/png": "[encoded data removed]"
          },
          "metadata": {},
          "execution_count": 12
        }
      ],
      "source": [
        "# Just restructuring the Stringified image, open stringified image which is in the form of bytes, resize them to 224,224 and RGB in color \n",
        "from six import BytesIO\n",
        "from PIL import Image\n",
        "import scipy\n",
        "\n",
        "scipy.misc.toimage(np.array(Image.open(BytesIO((Item[164874][b'imgs']))).convert('RGB').resize((224,224)),dtype=np.float64))"
      ]
    },
    {
      "cell_type": "code",
      "execution_count": null,
      "metadata": {
        "id": "Rp1FPlxYq2F9"
      },
      "outputs": [],
      "source": [
        "#Necessary functions to output the neural network layers for building the CNN\n",
        "\n",
        "def add_conv_2d_layer(inp_layer, wt_layer, stride):\n",
        "  return tf.nn.conv2d(inp_layer, wt_layer, [1, stride, stride, 1], padding = 'SAME')\n",
        "\n",
        "def add_bias_layer(inp_layer, bias_layer):\n",
        "  return tf.nn.bias_add(inp_layer, bias_layer)\n",
        "\n",
        "def add_relu(inp_layer):\n",
        "  return tf.nn.relu(inp_layer)\n",
        "\n",
        "def add_dropout(inp_layer, dropout):\n",
        "  return tf.nn.dropout(inp_layer, 0.5)\n",
        "\n",
        "def add_maxpool_2d_layer(inp_layer):\n",
        "  return tf.nn.max_pool(inp_layer, [1,2,2,1], [1,2,2,1], padding = 'SAME')\n",
        "\n",
        "def initialize_wt_layer(variable, shape):\n",
        "  return tf.compat.v1.get_variable(variable, dtype=tf.float32, shape = shape, initializer=glorot_normal())\n",
        "\n",
        "def initialize_bias_layer(variable, shape):\n",
        "  return tf.compat.v1.get_variable(variable, dtype=tf.float32, initializer=tf.zeros([shape]))\n",
        "\n",
        "def placeholder(dtype, shape):\n",
        "  return tf.compat.v1.placeholder(dtype=dtype, shape=shape, name=None)"
      ]
    },
    {
      "cell_type": "code",
      "execution_count": null,
      "metadata": {
        "id": "tums51Dtq-wD"
      },
      "outputs": [],
      "source": [
        "from os import waitid_result\n",
        "## Weights and Bias Initializations\n",
        "\n",
        "# For Hidden CNN Layer 1\n",
        "wtcnn1 = initialize_wt_layer('wc1', [11, 11, 3, 64])\n",
        "bcnn1 = initialize_bias_layer('bc1', 64)\n",
        "\n",
        "# For Hidden CNN Layer 2\n",
        "wtcnn2 = initialize_wt_layer('wc2', [5, 5, 64, 256])\n",
        "bcnn2 = initialize_bias_layer('bc2', 256)\n",
        "\n",
        "# For Hidden CNN Layer 3\n",
        "wtcnn3 = initialize_wt_layer('wc3', [3, 3, 256, 256])\n",
        "bcnn3 = initialize_bias_layer('bc3', 256)\n",
        "\n",
        "# For Hidden CNN Layer 4\n",
        "wtcnn4 = initialize_wt_layer('wc4', [3, 3, 256, 256])\n",
        "bcnn4 = initialize_bias_layer('bc4', 256)\n",
        "\n",
        "# For Hidden CNN Layer 5\n",
        "wtcnn5 = initialize_wt_layer('wc5', [3, 3, 256, 256])\n",
        "bcnn5 = initialize_bias_layer('bc5', 256)\n",
        "\n",
        "# For Fully Connected Dense Layer 1\n",
        "wtdl1 = initialize_wt_layer('wd1', [7*7*256, 4096])\n",
        "bdl1 = initialize_bias_layer('bd1', 4096)\n",
        "\n",
        "# For Fully Connected Dense Layer 2\n",
        "wtdl2 = initialize_wt_layer('wd2', [4096, 4096])\n",
        "bdl2 = initialize_bias_layer('bd2', 4096)\n",
        "\n",
        "# For Fully Connected Dense Layer 3\n",
        "wtdl3 = initialize_wt_layer('wd3', [4096, dims])\n",
        "bdl3 = initialize_bias_layer('bd3', dims)"
      ]
    },
    {
      "cell_type": "code",
      "execution_count": null,
      "metadata": {
        "id": "Pc8VBiy0rQcm"
      },
      "outputs": [],
      "source": [
        "# Building the CNN Model, with above initialized weight and bias vectors\n",
        "\n",
        "\n",
        "def CNN_Model(input):\n",
        "  input = (tf.cast(input, tf.float32) - 127.5)/127.5\n",
        "  # Input layer reshaping to account for all 3 RGB layers and flattening.\n",
        "  input = tf.reshape(input, shape = [-1, 224, 224, 3])\n",
        "\n",
        "  # Layer grouping architecture : Conv2d -> bias -> relu -> maxpool\n",
        "  # We have removed Max pool in two hiddenlayers to account for image blurring as max pool blurs the image much more.\n",
        "\n",
        "  # Layer 1  \n",
        "  cnnl1 = add_conv_2d_layer(input, wtcnn1, 4)\n",
        "  cnnl1 = add_bias_layer(cnnl1, bcnn1)\n",
        "  cnnl1 = add_relu(cnnl1)\n",
        "  cnnl1 = add_maxpool_2d_layer(cnnl1)\n",
        "\n",
        "  # Layer 2\n",
        "  cnnl2 = add_conv_2d_layer(cnnl1, wtcnn2, 1)\n",
        "  cnnl2 = add_bias_layer(cnnl2, bcnn2)\n",
        "  cnnl2 = add_relu(cnnl2)\n",
        "  cnnl2 = add_maxpool_2d_layer(cnnl2)\n",
        "\n",
        "  # Layer 3\n",
        "  cnnl3 = add_conv_2d_layer(cnnl2, wtcnn3, 1)\n",
        "  cnnl3 = add_bias_layer(cnnl3, bcnn3)\n",
        "  cnnl3 = add_relu(cnnl3)\n",
        "\n",
        "  # Layer 4\n",
        "  cnnl4 = add_conv_2d_layer(cnnl3, wtcnn4, 1)\n",
        "  cnnl4 = add_bias_layer(cnnl4, bcnn4)\n",
        "  cnnl4 = add_relu(cnnl4)\n",
        "\n",
        "  #Layer 5\n",
        "  cnnl5 = add_conv_2d_layer(cnnl4, wtcnn5, 1)\n",
        "  cnnl5 = add_bias_layer(cnnl5, bcnn5)\n",
        "  cnnl5 = add_relu(cnnl5)\n",
        "  cnnl5 = add_maxpool_2d_layer(cnnl5)\n",
        "\n",
        "  # Fully Connected Layer 1 \n",
        "  dl1 = tf.reshape(cnnl5, [-1, 7*7*256])\n",
        "  dl1 = tf.add(tf.matmul(dl1, wtdl1), bdl1)\n",
        "  dl1 = add_relu(dl1)\n",
        "  dl1 = add_dropout(dl1, 1.0)\n",
        "\n",
        "  # Fully Connected Layer 2\n",
        "  dl2 = tf.add(tf.matmul(dl1, wtdl2), bdl2)\n",
        "  dl2 = add_relu(dl2)\n",
        "  dl2 = add_dropout(dl2, 1.0)\n",
        "\n",
        "  # Fully Connected Layer 3 == Output layer == Dimensions [4096,100]\n",
        "  opl = tf.add(tf.matmul(dl2, wtdl3), bdl3)\n",
        "  \n",
        "  return opl"
      ]
    },
    {
      "cell_type": "code",
      "execution_count": null,
      "metadata": {
        "id": "mAQzfoW83fuf"
      },
      "outputs": [],
      "source": [
        "# from io import StringIO\n",
        "# def loadimg(item):\n",
        "#     return np.round(np.array(Image.open(StringIO(Item[item]['imgs'])).convert('RGB').resize((224,224)),dtype=np.float64))"
      ]
    },
    {
      "cell_type": "code",
      "execution_count": null,
      "metadata": {
        "colab": {
          "base_uri": "https://localhost:8080/"
        },
        "id": "ZEW0FRYD3hrQ",
        "outputId": "8aa40c4f-19d6-4f2f-a9c8-b45abd0c2e5d"
      },
      "outputs": [
        {
          "output_type": "stream",
          "name": "stderr",
          "text": [
            "WARNING:tensorflow:From <ipython-input-13-f7ae56917365>:13: calling dropout (from tensorflow.python.ops.nn_ops) with keep_prob is deprecated and will be removed in a future version.\n",
            "Instructions for updating:\n",
            "Please use `rate` instead of `keep_prob`. Rate should be set to `rate = 1 - keep_prob`.\n"
          ]
        }
      ],
      "source": [
        "imgtst = placeholder(tf.uint8, [128,224,224,3]) \n",
        "_imgtst = (tf.cast(imgtst, tf.float32) - 127.5)/127.5\n",
        "\n",
        "dropout_prob = placeholder(tf.float32, None) \n",
        "\n",
        "with tf.variable_scope(\"DVBPR\") as scope:\n",
        "  optest = CNN_Model(_imgtst)\n",
        "  # THIS IS THE USER LATENT VECTOR, has dimansions of [(no. of users),100] --> represents the preference/latent vector of each user (hence (user_num * dims ))\n",
        "  reg_const = tf.Variable(tf.random_uniform([user_num,dims],minval=0,maxval=1)/100)"
      ]
    },
    {
      "cell_type": "code",
      "execution_count": null,
      "metadata": {
        "colab": {
          "base_uri": "https://localhost:8080/"
        },
        "id": "mxCAR1xk3oYO",
        "outputId": "e9039888-fe10-497a-e66a-bac9a72a0387"
      },
      "outputs": [
        {
          "output_type": "stream",
          "name": "stderr",
          "text": [
            "WARNING:tensorflow:From /usr/local/lib/python3.7/dist-packages/tensorflow_core/python/util/tf_should_use.py:198: initialize_all_variables (from tensorflow.python.ops.variables) is deprecated and will be removed after 2017-03-02.\n",
            "Instructions for updating:\n",
            "Use `tf.global_variables_initializer` instead.\n"
          ]
        }
      ],
      "source": [
        "# Define tensorflow sessions, and configurations.\n",
        "from tensorflow import Session, ConfigProto\n",
        "\n",
        "session = Session(config = ConfigProto(allow_soft_placement=True, log_device_placement=False))\n",
        "session.run(tf.initialize_all_variables())"
      ]
    },
    {
      "cell_type": "code",
      "execution_count": null,
      "metadata": {
        "id": "wbPFqxLJ3rfI"
      },
      "outputs": [],
      "source": [
        "# We shall now restore the pretrained weights and bias vectors form the checkpoint files generated from visual_recommender.py after training.\n",
        "\n",
        "save_model = Saver([k for k in tf.global_variables() if k.name.startswith('DVBPR')])\n",
        "\n",
        "save_model.restore(session,Visual_Recommender_ckpt_path)\n"
      ]
    },
    {
      "cell_type": "code",
      "execution_count": null,
      "metadata": {
        "colab": {
          "base_uri": "https://localhost:8080/"
        },
        "id": "IT2lQLjI3un6",
        "outputId": "d48aa060-0581-4940-bd94-324ce1bd732d"
      },
      "outputs": [
        {
          "output_type": "stream",
          "name": "stderr",
          "text": [
            "WARNING:tensorflow:\n",
            "The TensorFlow contrib module will not be included in TensorFlow 2.0.\n",
            "For more information, please see:\n",
            "  * https://github.com/tensorflow/community/blob/master/rfcs/20180907-contrib-sunset.md\n",
            "  * https://github.com/tensorflow/addons\n",
            "  * https://github.com/tensorflow/io (for I/O related ops)\n",
            "If you depend on functionality not listed there, please file an issue.\n",
            "\n",
            "WARNING:tensorflow:From /content/gan_train.py:60: The name tf.placeholder is deprecated. Please use tf.compat.v1.placeholder instead.\n",
            "\n",
            "WARNING:tensorflow:From /content/ops.py:96: The name tf.get_variable is deprecated. Please use tf.compat.v1.get_variable instead.\n",
            "\n",
            "WARNING:tensorflow:From /content/gan_train.py:156: The name tf.trainable_variables is deprecated. Please use tf.compat.v1.trainable_variables instead.\n",
            "\n"
          ]
        },
        {
          "output_type": "stream",
          "name": "stdout",
          "text": [
            " [*] Reading checkpoints... /content/checkpoint\n",
            " [*] Success to read DCGAN.model-311502\n"
          ]
        },
        {
          "output_type": "execute_result",
          "data": {
            "text/plain": [
              "(True, 311502)"
            ]
          },
          "metadata": {},
          "execution_count": 19
        }
      ],
      "source": [
        "# Importing the DCGAN model from \n",
        "\n",
        "from gan_train import DCGAN\n",
        "\n",
        "dcgan = DCGAN(\n",
        "          session,\n",
        "          input_width=64,\n",
        "          input_height=64,\n",
        "          output_width=64,\n",
        "          output_height=64,\n",
        "          batch_size=16,\n",
        "          sample_num=16,\n",
        "          y_dim=6,\n",
        "          dataset_name='AmazonFashion6ImgPartitioned.npy',\n",
        "          input_fname_pattern='*.jpg',\n",
        "          crop='False',\n",
        "          checkpoint_dir='/content/checkpoint',\n",
        "          sample_dir='/content')\n",
        "\n",
        "dcgan.load('/content/checkpoint')"
      ]
    },
    {
      "cell_type": "code",
      "execution_count": null,
      "metadata": {
        "id": "2wI2-3yu3xN3"
      },
      "outputs": [],
      "source": [
        "z=tf.Variable(np.random.normal(0,0.5,size=[16,256]),name='input_noise',dtype=tf.float32)\n",
        "y=placeholder(dtype=tf.float32,shape=[16,6])\n",
        "# Initializing the GAN's generator with random inputs y = category vector and z = Noise vector.\n",
        "gan_image=dcgan.get_gen(z, y)\n",
        "# Initializing GAN's discriminator to classify gan_image.\n",
        "_, gan_rf=dcgan.get_dis(gan_image, y)\n",
        "\n",
        "# Resizing the images so that we can interlink the training of GAN Image and the CNN  \n",
        "image=tf.image.resize_nearest_neighbor(images=gan_image, size=[224,224], align_corners=None, name=None)\n",
        "\n",
        "with tf.variable_scope(\"DVBPR\") as scope:\n",
        "    scope.reuse_variables()\n",
        "    # Classifying using the visual recommender the output of GAN.\n",
        "    result = CNN_Model(image)"
      ]
    },
    {
      "cell_type": "code",
      "execution_count": null,
      "metadata": {
        "id": "NMWZpk4436rb",
        "colab": {
          "base_uri": "https://localhost:8080/"
        },
        "outputId": "7de05f1c-7915-4705-ad74-23304cdfd17e"
      },
      "outputs": [
        {
          "output_type": "stream",
          "name": "stderr",
          "text": [
            "WARNING:tensorflow:From /usr/local/lib/python3.7/dist-packages/tensorflow_core/python/ops/math_grad.py:1424: where (from tensorflow.python.ops.array_ops) is deprecated and will be removed in a future version.\n",
            "Instructions for updating:\n",
            "Use tf.where in 2.0, which has the same broadcast rule as np.where\n"
          ]
        }
      ],
      "source": [
        "# random_user place holder, which is used for the recommendation geneartion, recommendations for this user\n",
        "random_user=placeholder(dtype=tf.int32,shape=[1])\n",
        "\n",
        "with tf.variable_scope('opt'):\n",
        "    # Here we shall calculate the loss value between the features extracted from real image and image from GAN\n",
        "    obj=tf.reduce_mean(tf.matmul(result,tf.transpose(tf.gather(reg_const,random_user))))-tf.reduce_mean(tf.square(gan_rf-1))\n",
        "    optimizer = optim_fn(learning_rate=0.05).minimize(-obj,var_list=[z])\n",
        "    idx =tf.reduce_sum(tf.matmul(result,tf.transpose(tf.gather(reg_const,random_user))),1)\n",
        "\n",
        "session.run(tf.variables_initializer([k for k in tf.global_variables() if k.name.startswith('opt')]))"
      ]
    },
    {
      "cell_type": "code",
      "execution_count": null,
      "metadata": {
        "colab": {
          "base_uri": "https://localhost:8080/"
        },
        "id": "s-kZpCkZ39FW",
        "outputId": "6fd5e7da-f88d-4ec2-9dfe-925914fef026"
      },
      "outputs": [
        {
          "output_type": "stream",
          "name": "stdout",
          "text": [
            "0\n",
            "23459\n"
          ]
        },
        {
          "output_type": "stream",
          "name": "stderr",
          "text": [
            "/usr/local/lib/python3.7/dist-packages/ipykernel_launcher.py:46: DeprecationWarning: `toimage` is deprecated!\n",
            "`toimage` is deprecated in SciPy 1.0.0, and will be removed in 1.2.0.\n",
            "Use Pillow's ``Image.fromarray`` directly instead.\n"
          ]
        },
        {
          "output_type": "stream",
          "name": "stdout",
          "text": [
            "1\n",
            "34917\n",
            "2\n",
            "27391\n",
            "3\n",
            "99\n",
            "4\n",
            "32416\n",
            "5\n",
            "5756\n"
          ]
        }
      ],
      "source": [
        "import scipy\n",
        "\n",
        "# Recommendations start here. Recommendations will use the categories as well, we have 6 categories as represented in Imgs[<item_num>] 'c'.\n",
        "# Looping over each category\n",
        "for categories in range(6):\n",
        "    print(categories)\n",
        "    \n",
        "    while True: \n",
        "        # Some random user to generate recommendations. \n",
        "        usernum=np.random.randint(user_num)\n",
        "\n",
        "        # We shall generate recommendations only for user which have more that 15 interactions, and also the test data has the item of that selected categories.\n",
        "        if len(train_data[usernum])>15 and Item[test_data[usernum][0][b'productid']][b'c'][categories]==1:\n",
        "          print(usernum)\n",
        "          break\n",
        "        \n",
        "    \n",
        "    #Initializing the categories vector to be sent as input for GAN\n",
        "    input_for_gan=np.zeros([16,6])\n",
        "    it = 0\n",
        "    # putting '1' indicating that is the category which needs recommendations to be generated.\n",
        "    while (it<16):\n",
        "      input_for_gan[it,categories] = 1\n",
        "      it = it + 1\n",
        "\n",
        "    session.run(z.assign(np.random.normal(0,0.5,size=[16,256])))\n",
        "    \n",
        "    generated_images=[]\n",
        "    # Initializing the GAN Image and the user latent vector of that random_user \n",
        "    img,_=session.run([gan_image,idx],feed_dict={dcgan.is_train:False,y:input_for_gan,random_user:[usernum]})\n",
        "    generated_images.append(img)\n",
        "    \n",
        "    for i in range(10):\n",
        "      # Optimizing the GAN Image and the user latent vector of that random_user, So we have recommendations according to users preference/latent features vector \n",
        "      imp,_ = session.run([idx,optimizer],feed_dict={dcgan.is_train:False,y:input_for_gan,random_user:[usernum]})\n",
        "      img=session.run(gan_image,feed_dict={dcgan.is_train:False,y:input_for_gan,random_user:[usernum]})\n",
        "      generated_images.append(img)\n",
        "    \n",
        "    # Appending the generated images to the jpg files by concatenating.\n",
        "    for i in range(16):\n",
        "        output_image = np.zeros([64,64,3])\n",
        "        for j in range(11):\n",
        "            output_image=np.concatenate([output_image,np.float64(np.round(generated_images[j][i]*127.5+127.5))],axis=1)\n",
        "        if i==0: _output_image=output_image\n",
        "        else: _output_image=np.concatenate([_output_image,output_image],axis=0)\n",
        "    scipy.misc.toimage(_output_image,cmin=0.0).save('gan_generated_recommendation_'+str(categories)+'.jpg')"
      ]
    }
  ],
  "metadata": {
    "accelerator": "GPU",
    "colab": {
      "provenance": []
    },
    "gpuClass": "standard",
    "kernelspec": {
      "display_name": "Python 3",
      "name": "python3"
    },
    "language_info": {
      "name": "python"
    }
  },
  "nbformat": 4,
  "nbformat_minor": 0
}